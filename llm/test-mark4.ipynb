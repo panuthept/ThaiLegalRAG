{
 "cells": [
  {
   "cell_type": "code",
   "execution_count": 1,
   "id": "1d4eac9a-a338-4789-b5bf-4e8c8c1e37d2",
   "metadata": {},
   "outputs": [],
   "source": [
    "import os\n",
    "os.environ[\"CUDA_VISIBLE_DEVICES\"]=\"1\""
   ]
  },
  {
   "cell_type": "code",
   "execution_count": 2,
   "id": "90a6c45d-4297-4831-b475-017e4ed0562e",
   "metadata": {},
   "outputs": [],
   "source": [
    "import glob\n",
    "root_dataset=os.path.join(\"..\")\n",
    "dataset_dir=os.path.join(root_dataset,\"dataset\")\n",
    "dataset_train_path=glob.glob(os.path.join(dataset_dir,\"test\",\"*.csv\"))"
   ]
  },
  {
   "cell_type": "code",
   "execution_count": 3,
   "id": "ea134491-0496-48e3-ab46-c2a5f52c1f7a",
   "metadata": {},
   "outputs": [],
   "source": [
    "from transformers import AutoModelForCausalLM, AutoTokenizer, BitsAndBytesConfig, HfArgumentParser, TrainingArguments, pipeline, logging, TextStreamer\n",
    "from peft import LoraConfig, PeftModel, prepare_model_for_kbit_training, get_peft_model\n",
    "import os,torch, platform, warnings\n",
    "from datasets import load_dataset\n",
    "from trl import SFTTrainer"
   ]
  },
  {
   "cell_type": "code",
   "execution_count": 4,
   "id": "bdc880a7-3a09-4ea7-b43b-dc718ad16ec9",
   "metadata": {},
   "outputs": [],
   "source": [
    "import transformers"
   ]
  },
  {
   "cell_type": "code",
   "execution_count": 5,
   "id": "1f2be826-a4d8-4e88-860f-685465d4c06e",
   "metadata": {},
   "outputs": [],
   "source": [
    "import json\n",
    "import os\n",
    "from pathlib import Path\n",
    "law_dir=os.path.join(root_dataset,\"wcx_ptt_export_280524\")\n",
    "law_list=glob.glob(os.path.join(law_dir,\"*.json\"))\n",
    "law_data = {}\n",
    "for i in law_list:\n",
    "    key=Path(i).stem\n",
    "    law_data[key]={}\n",
    "    with open(i) as json_file:\n",
    "        json_data = json.load(json_file)\n",
    "    for j in json_data:\n",
    "        law_data[key][j['section_num']]=j['section_content']"
   ]
  },
  {
   "cell_type": "code",
   "execution_count": 6,
   "id": "915f08b2-f612-488c-b5c6-c6206d837f73",
   "metadata": {},
   "outputs": [],
   "source": [
    "model_id=\"./results_mark4/checkpoint-225\"\n",
    "model_root=\"unsloth/Meta-Llama-3.1-8B-Instruct\""
   ]
  },
  {
   "cell_type": "code",
   "execution_count": 7,
   "id": "5018edbb-6e61-4227-a5e4-f5486f31e809",
   "metadata": {},
   "outputs": [],
   "source": [
    "from datasets import Dataset,DatasetDict\n",
    "import pandas as pd\n",
    "import datetime\n",
    "df = pd.concat([pd.read_csv(i) for i in dataset_train_path])\n",
    "ds = Dataset.from_pandas(df)\n",
    "dataset=ds"
   ]
  },
  {
   "cell_type": "code",
   "execution_count": 8,
   "id": "e71d802b-1ea6-47ee-8459-0bff0287e429",
   "metadata": {},
   "outputs": [
    {
     "data": {
      "application/vnd.jupyter.widget-view+json": {
       "model_id": "3a312f08354c47a8a11a1e921b1a7d5d",
       "version_major": 2,
       "version_minor": 0
      },
      "text/plain": [
       "Map:   0%|          | 0/1281 [00:00<?, ? examples/s]"
      ]
     },
     "metadata": {},
     "output_type": "display_data"
    },
    {
     "data": {
      "application/vnd.jupyter.widget-view+json": {
       "model_id": "6cdad5d03fd449669962e49d7dc5486e",
       "version_major": 2,
       "version_minor": 0
      },
      "text/plain": [
       "Filter:   0%|          | 0/1281 [00:00<?, ? examples/s]"
      ]
     },
     "metadata": {},
     "output_type": "display_data"
    }
   ],
   "source": [
    "tokenizer = AutoTokenizer.from_pretrained(model_root, trust_remote_code=True)\n",
    "tokenizer.pad_token = tokenizer.eos_token\n",
    "tokenizer.add_eos_token = True\n",
    "EOS_TOKEN = tokenizer.eos_token # Must add EOS_TOKEN\n",
    "def formatting_prompts_func(examples):\n",
    "    inputs       = examples[\"question\"]\n",
    "    outputs      = examples[\"answer\"]\n",
    "    list_law= [i for i in examples[\"relevant_laws\"]]\n",
    "    # list_txt_law=[]\n",
    "    # for i in list_law:\n",
    "    #     list_txt_law.append(law_data[i[\"law_code\"][str(i['sections'][0])]])\n",
    "    texts = []\n",
    "    for i, output,law in zip(inputs, outputs,list_law):\n",
    "        # Must add EOS_TOKEN, otherwise your generation will go on forever!\n",
    "        list_txt_law=[]\n",
    "        for k in eval(law):\n",
    "            if k[\"law_code\"] not in set(law_data.keys()):\n",
    "                pass\n",
    "            else:\n",
    "                if str(k['sections'][0]) not in set(law_data[k[\"law_code\"]].keys()):\n",
    "                    pass\n",
    "                else:\n",
    "                    for s in k['sections']:\n",
    "                        if str(s) in set(law_data[k[\"law_code\"]].keys()):\n",
    "                            list_txt_law.append(law_data[k[\"law_code\"]][str(s)].strip())\n",
    "        if list_txt_law!=[]:\n",
    "            source_information=\"- \"+\"\\n- \".join(list_txt_law)\n",
    "            source_information=source_information.strip()\n",
    "            i=i.strip()\n",
    "            content=f\"\"\"Query: {i}\\nContinue to answer the query by using the Search Results:\\n{source_information}\"\"\"\n",
    "            text = tokenizer.apply_chat_template([{\"role\":\"user\",\"content\":content}], tokenize=False) + EOS_TOKEN\n",
    "            texts.append(text)\n",
    "        else:\n",
    "            texts.append(None)\n",
    "    return { \"text\" : texts, }\n",
    "\n",
    "from datasets import load_dataset\n",
    "dataset = dataset.map(formatting_prompts_func, batched = True,).filter(lambda example: isinstance(example['text'],str))"
   ]
  },
  {
   "cell_type": "code",
   "execution_count": 9,
   "id": "23b622d1-2e88-49fd-ba65-09ca4907e0d4",
   "metadata": {},
   "outputs": [
    {
     "data": {
      "text/plain": [
       "Dataset({\n",
       "    features: ['Unnamed: 0', 'idx', 'question', 'question_ori', 'answer', 'answer_ori', 'relevant_laws', 'irrelevant_laws', 'comment_1_1', 'comment_1_2', 'text'],\n",
       "    num_rows: 1280\n",
       "})"
      ]
     },
     "execution_count": 9,
     "metadata": {},
     "output_type": "execute_result"
    }
   ],
   "source": [
    "dataset"
   ]
  },
  {
   "cell_type": "code",
   "execution_count": 10,
   "id": "d7901cc2-8c77-4de0-9b8f-3756a8c03387",
   "metadata": {},
   "outputs": [
    {
     "data": {
      "application/vnd.jupyter.widget-view+json": {
       "model_id": "2090e6fdb34c45d982bafa103b5fd950",
       "version_major": 2,
       "version_minor": 0
      },
      "text/plain": [
       "Loading checkpoint shards:   0%|          | 0/4 [00:00<?, ?it/s]"
      ]
     },
     "metadata": {},
     "output_type": "display_data"
    }
   ],
   "source": [
    "pipeline = transformers.pipeline(\n",
    "    \"text-generation\",\n",
    "    model=model_id,\n",
    "    tokenizer=tokenizer,#model_root,\n",
    "    model_kwargs={\"torch_dtype\": torch.bfloat16},\n",
    "    device_map=\"auto\",\n",
    "    return_full_text=False,\n",
    "    batch_size=32\n",
    ")"
   ]
  },
  {
   "cell_type": "code",
   "execution_count": 11,
   "id": "9d8f9099-c35b-4ef9-814c-e17309c7ea61",
   "metadata": {},
   "outputs": [],
   "source": [
    "q=\"ถ้ามีคนประกอบกิจการในลักษณะเป็นศูนย์ซื้อขายสัญญาซื้อขายล่วงหน้าโดยไม่ได้รับใบอนุญาตต้องระวางโทษอย่างไร\"\n",
    "source_information=\"\"\"- พระราชบัญญัติสัญญาซื้อขายล่วงหน้า พ.ศ. 2546 มาตรา 132 ผู้ใดประกอบกิจการในลักษณะเป็นศูนย์ซื้อขายสัญญาซื้อขายล่วงหน้าโดยไม่ได้รับใบอนุญาตหรือไม่ได้จดทะเบียนตามมาตรา 54 ต้องระวางโทษจำคุกไม่เกินสามปี หรือปรับไม่เกินสามแสนบาท หรือทั้งจำทั้งปรับ และปรับอีกไม่เกินวันละหนึ่งหมื่นบาทตลอดเวลาที่ยังฝ่าฝืน\"\"\"\n",
    "content=f\"\"\"Query: {q}\\nContinue to answer the query by using the Search Results:\\n{source_information}\"\"\""
   ]
  },
  {
   "cell_type": "code",
   "execution_count": 12,
   "id": "db281090-f09e-4e65-8be0-4d773d0b519a",
   "metadata": {},
   "outputs": [
    {
     "name": "stderr",
     "output_type": "stream",
     "text": [
      "/usr/local/lib/python3.10/dist-packages/transformers/generation/configuration_utils.py:567: UserWarning: `do_sample` is set to `False`. However, `temperature` is set to `0.6` -- this flag is only used in sample-based generation modes. You should set `do_sample=True` or unset `temperature`.\n",
      "  warnings.warn(\n",
      "/usr/local/lib/python3.10/dist-packages/transformers/generation/configuration_utils.py:572: UserWarning: `do_sample` is set to `False`. However, `top_p` is set to `0.9` -- this flag is only used in sample-based generation modes. You should set `do_sample=True` or unset `top_p`.\n",
      "  warnings.warn(\n"
     ]
    }
   ],
   "source": [
    "messages=[{\"role\":\"user\",\"content\":content}]\n",
    "prompt = pipeline.tokenizer.apply_chat_template(messages, tokenize=False, add_generation_prompt=True)\n",
    "outputs = pipeline(prompt, max_new_tokens=1024, do_sample=False)  # Don't change do_sample=False"
   ]
  },
  {
   "cell_type": "code",
   "execution_count": 13,
   "id": "f28ed664-6518-4096-a609-bb961e0b17a0",
   "metadata": {},
   "outputs": [
    {
     "data": {
      "text/plain": [
       "[{'role': 'user',\n",
       "  'content': 'Query: ถ้ามีคนประกอบกิจการในลักษณะเป็นศูนย์ซื้อขายสัญญาซื้อขายล่วงหน้าโดยไม่ได้รับใบอนุญาตต้องระวางโทษอย่างไร\\nContinue to answer the query by using the Search Results:\\n- พระราชบัญญัติสัญญาซื้อขายล่วงหน้า พ.ศ. 2546 มาตรา 132 ผู้ใดประกอบกิจการในลักษณะเป็นศูนย์ซื้อขายสัญญาซื้อขายล่วงหน้าโดยไม่ได้รับใบอนุญาตหรือไม่ได้จดทะเบียนตามมาตรา 54 ต้องระวางโทษจำคุกไม่เกินสามปี หรือปรับไม่เกินสามแสนบาท หรือทั้งจำทั้งปรับ และปรับอีกไม่เกินวันละหนึ่งหมื่นบาทตลอดเวลาที่ยังฝ่าฝืน'}]"
      ]
     },
     "execution_count": 13,
     "metadata": {},
     "output_type": "execute_result"
    }
   ],
   "source": [
    "messages"
   ]
  },
  {
   "cell_type": "code",
   "execution_count": 14,
   "id": "a4b0447c-fa25-43d3-8e2b-6af0238b188a",
   "metadata": {},
   "outputs": [
    {
     "name": "stdout",
     "output_type": "stream",
     "text": [
      "<|begin_of_text|><|start_header_id|>user<|end_header_id|>\n",
      "\n",
      "Query: ถ้ามีคนประกอบกิจการในลักษณะเป็นศูนย์ซื้อขายสัญญาซื้อขายล่วงหน้าโดยไม่ได้รับใบอนุญาตต้องระวางโทษอย่างไร\n",
      "Continue to answer the query by using the Search Results:\n",
      "- พระราชบัญญัติสัญญาซื้อขายล่วงหน้า พ.ศ. 2546 มาตรา 132 ผู้ใดประกอบกิจการในลักษณะเป็นศูนย์ซื้อขายสัญญาซื้อขายล่วงหน้าโดยไม่ได้รับใบอนุญาตหรือไม่ได้จดทะเบียนตามมาตรา 54 ต้องระวางโทษจำคุกไม่เกินสามปี หรือปรับไม่เกินสามแสนบาท หรือทั้งจำทั้งปรับ และปรับอีกไม่เกินวันละหนึ่งหมื่นบาทตลอดเวลาที่ยังฝ่าฝืน<|eot_id|><|start_header_id|>assistant<|end_header_id|>\n",
      "\n",
      "\n"
     ]
    }
   ],
   "source": [
    "print(prompt)"
   ]
  },
  {
   "cell_type": "code",
   "execution_count": 15,
   "id": "b56e77c3-a389-41cd-ad89-9ff6cb77c361",
   "metadata": {},
   "outputs": [
    {
     "data": {
      "text/plain": [
       "'ตามพระราชบัญญัติสัญญาซื้อขายล่วงหน้า พ.ศ. 2546 มาตรา 132 ผู้ประกอบกิจการในลักษณะเป็นศูนย์ซื้อขายสัญญาซื้อขายล่วงหน้าโดยไม่ได้รับใบอนุญาตหรือไม่ได้จดทะเบียนตามมาตรา 54 จะต้องระวางโทษจำคุกไม่เกิน 3 ปี หรือปรับไม่เกิน 300,000 บาท หรือทั้งจำทั้งปรับ และปรับอีกไม่เกิน 1,000 บาทต่อวันตลอดเวลาที่ยังฝ่าฝืน'"
      ]
     },
     "execution_count": 15,
     "metadata": {},
     "output_type": "execute_result"
    }
   ],
   "source": [
    "outputs[0]['generated_text']"
   ]
  },
  {
   "cell_type": "code",
   "execution_count": 16,
   "id": "6b5a041e-29a5-4817-9aa6-744fe015959c",
   "metadata": {},
   "outputs": [],
   "source": [
    "from tqdm.auto import tqdm"
   ]
  },
  {
   "cell_type": "code",
   "execution_count": 17,
   "id": "ab2c62af-b343-4546-b0e8-3a40d0877e4f",
   "metadata": {},
   "outputs": [],
   "source": [
    "from transformers.pipelines.pt_utils import KeyDataset"
   ]
  },
  {
   "cell_type": "code",
   "execution_count": 18,
   "id": "4aa3eda7-e3ee-4e50-9b83-b0669870f02b",
   "metadata": {},
   "outputs": [
    {
     "name": "stderr",
     "output_type": "stream",
     "text": [
      "A decoder-only architecture is being used, but right-padding was detected! For correct generation results, please set `padding_side='left'` when initializing the tokenizer.\n",
      "A decoder-only architecture is being used, but right-padding was detected! For correct generation results, please set `padding_side='left'` when initializing the tokenizer.\n",
      "A decoder-only architecture is being used, but right-padding was detected! For correct generation results, please set `padding_side='left'` when initializing the tokenizer.\n",
      "A decoder-only architecture is being used, but right-padding was detected! For correct generation results, please set `padding_side='left'` when initializing the tokenizer.\n",
      "A decoder-only architecture is being used, but right-padding was detected! For correct generation results, please set `padding_side='left'` when initializing the tokenizer.\n",
      "A decoder-only architecture is being used, but right-padding was detected! For correct generation results, please set `padding_side='left'` when initializing the tokenizer.\n",
      "A decoder-only architecture is being used, but right-padding was detected! For correct generation results, please set `padding_side='left'` when initializing the tokenizer.\n",
      "A decoder-only architecture is being used, but right-padding was detected! For correct generation results, please set `padding_side='left'` when initializing the tokenizer.\n",
      "A decoder-only architecture is being used, but right-padding was detected! For correct generation results, please set `padding_side='left'` when initializing the tokenizer.\n",
      "A decoder-only architecture is being used, but right-padding was detected! For correct generation results, please set `padding_side='left'` when initializing the tokenizer.\n",
      "A decoder-only architecture is being used, but right-padding was detected! For correct generation results, please set `padding_side='left'` when initializing the tokenizer.\n",
      "A decoder-only architecture is being used, but right-padding was detected! For correct generation results, please set `padding_side='left'` when initializing the tokenizer.\n",
      "A decoder-only architecture is being used, but right-padding was detected! For correct generation results, please set `padding_side='left'` when initializing the tokenizer.\n",
      "A decoder-only architecture is being used, but right-padding was detected! For correct generation results, please set `padding_side='left'` when initializing the tokenizer.\n",
      "A decoder-only architecture is being used, but right-padding was detected! For correct generation results, please set `padding_side='left'` when initializing the tokenizer.\n",
      "A decoder-only architecture is being used, but right-padding was detected! For correct generation results, please set `padding_side='left'` when initializing the tokenizer.\n",
      "A decoder-only architecture is being used, but right-padding was detected! For correct generation results, please set `padding_side='left'` when initializing the tokenizer.\n",
      "A decoder-only architecture is being used, but right-padding was detected! For correct generation results, please set `padding_side='left'` when initializing the tokenizer.\n",
      "A decoder-only architecture is being used, but right-padding was detected! For correct generation results, please set `padding_side='left'` when initializing the tokenizer.\n",
      "A decoder-only architecture is being used, but right-padding was detected! For correct generation results, please set `padding_side='left'` when initializing the tokenizer.\n",
      "A decoder-only architecture is being used, but right-padding was detected! For correct generation results, please set `padding_side='left'` when initializing the tokenizer.\n",
      "A decoder-only architecture is being used, but right-padding was detected! For correct generation results, please set `padding_side='left'` when initializing the tokenizer.\n",
      "A decoder-only architecture is being used, but right-padding was detected! For correct generation results, please set `padding_side='left'` when initializing the tokenizer.\n",
      "A decoder-only architecture is being used, but right-padding was detected! For correct generation results, please set `padding_side='left'` when initializing the tokenizer.\n",
      "A decoder-only architecture is being used, but right-padding was detected! For correct generation results, please set `padding_side='left'` when initializing the tokenizer.\n",
      "A decoder-only architecture is being used, but right-padding was detected! For correct generation results, please set `padding_side='left'` when initializing the tokenizer.\n",
      "A decoder-only architecture is being used, but right-padding was detected! For correct generation results, please set `padding_side='left'` when initializing the tokenizer.\n",
      "A decoder-only architecture is being used, but right-padding was detected! For correct generation results, please set `padding_side='left'` when initializing the tokenizer.\n",
      "A decoder-only architecture is being used, but right-padding was detected! For correct generation results, please set `padding_side='left'` when initializing the tokenizer.\n",
      "A decoder-only architecture is being used, but right-padding was detected! For correct generation results, please set `padding_side='left'` when initializing the tokenizer.\n",
      "A decoder-only architecture is being used, but right-padding was detected! For correct generation results, please set `padding_side='left'` when initializing the tokenizer.\n",
      "A decoder-only architecture is being used, but right-padding was detected! For correct generation results, please set `padding_side='left'` when initializing the tokenizer.\n",
      "A decoder-only architecture is being used, but right-padding was detected! For correct generation results, please set `padding_side='left'` when initializing the tokenizer.\n",
      "A decoder-only architecture is being used, but right-padding was detected! For correct generation results, please set `padding_side='left'` when initializing the tokenizer.\n",
      "A decoder-only architecture is being used, but right-padding was detected! For correct generation results, please set `padding_side='left'` when initializing the tokenizer.\n",
      "A decoder-only architecture is being used, but right-padding was detected! For correct generation results, please set `padding_side='left'` when initializing the tokenizer.\n",
      "A decoder-only architecture is being used, but right-padding was detected! For correct generation results, please set `padding_side='left'` when initializing the tokenizer.\n",
      "A decoder-only architecture is being used, but right-padding was detected! For correct generation results, please set `padding_side='left'` when initializing the tokenizer.\n",
      "A decoder-only architecture is being used, but right-padding was detected! For correct generation results, please set `padding_side='left'` when initializing the tokenizer.\n",
      "A decoder-only architecture is being used, but right-padding was detected! For correct generation results, please set `padding_side='left'` when initializing the tokenizer.\n"
     ]
    }
   ],
   "source": [
    "pred_list=[]\n",
    "for prompt in pipeline(KeyDataset(dataset,\"text\"), max_new_tokens=1024, do_sample=False):\n",
    "    # outputs = pipeline(prompt, max_new_tokens=1024, do_sample=False)\n",
    "    pred_list.extend(prompt)"
   ]
  },
  {
   "cell_type": "code",
   "execution_count": 19,
   "id": "d2ca8b5e-8177-4d26-9a21-99550ae5bee5",
   "metadata": {},
   "outputs": [
    {
     "data": {
      "text/plain": [
       "1280"
      ]
     },
     "execution_count": 19,
     "metadata": {},
     "output_type": "execute_result"
    }
   ],
   "source": [
    "len(pred_list)"
   ]
  },
  {
   "cell_type": "code",
   "execution_count": 20,
   "id": "bfff1650-8402-4ea2-8fd0-9aaf02808290",
   "metadata": {},
   "outputs": [
    {
     "data": {
      "text/plain": [
       "{'generated_text': 'assistant\\n\\nตามพระราชบัญญัติสัญญาซื้อขายล่วงหน้า พ.ศ. 2546 มาตรา 132 ผู้ประกอบกิจการในลักษณะเป็นศูนย์ซื้อขายสัญญาซื้อขายล่วงหน้าโดยไม่ได้รับใบอนุญาตหรือไม่ได้จดทะเบียนตามมาตรา 54 จะต้องระวางโทษจำคุกไม่เกิน 3 ปี หรือปรับไม่เกิน 300,000 บาท หรือทั้งจำทั้งปรับ และปรับอีกไม่เกิน 1,000 บาทต่อวันตลอดเวลาที่ยังฝ่าฝืน'}"
      ]
     },
     "execution_count": 20,
     "metadata": {},
     "output_type": "execute_result"
    }
   ],
   "source": [
    "pred_list[0]"
   ]
  },
  {
   "cell_type": "code",
   "execution_count": 21,
   "id": "92dde57d-a1e6-47db-b632-53e013f9b619",
   "metadata": {},
   "outputs": [
    {
     "data": {
      "text/plain": [
       "'<|begin_of_text|><|start_header_id|>user<|end_header_id|>\\n\\nQuery: ถ้าผู้ิยู่ในปกครองได้ยินยอมในการกระทำของผู้ปกครองจะทำให้ผู้ปกครองหลุดพ้นจากความรับผิดหรือเปล่า\\nContinue to answer the query by using the Search Results:\\n- ประมวลกฎหมายแพ่งและพาณิชย์ มาตรา 1598/5\\nถ้าผู้อยู่ในปกครองรู้จักผิดชอบและมีอายุไม่ต่ำกว่าสิบห้าปีบริบูรณ์เมื่อผู้ปกครองจะทำกิจการใดที่สำคัญ ให้ปรึกษาหารือผู้อยู่ในปกครองก่อนเท่าที่จะทำได้\\nการที่ผู้อยู่ในปกครองได้ยินยอมด้วยนั้นหาคุ้มผู้ปกครองให้พ้นจากความรับผิดไม่<|eot_id|><|start_header_id|>assistant<|end_header_id|>\\n\\n<|eot_id|>'"
      ]
     },
     "execution_count": 21,
     "metadata": {},
     "output_type": "execute_result"
    }
   ],
   "source": [
    "dataset[\"text\"][1]"
   ]
  },
  {
   "cell_type": "code",
   "execution_count": 22,
   "id": "8dc9623c-f4e0-40cf-a5d9-32a20de38772",
   "metadata": {},
   "outputs": [
    {
     "data": {
      "text/plain": [
       "{'generated_text': 'assistant\\n\\nไม่'}"
      ]
     },
     "execution_count": 22,
     "metadata": {},
     "output_type": "execute_result"
    }
   ],
   "source": [
    "pred_list[1]"
   ]
  },
  {
   "cell_type": "code",
   "execution_count": 23,
   "id": "7e4ab071-a18c-4bda-9421-a86b10772053",
   "metadata": {},
   "outputs": [
    {
     "data": {
      "text/plain": [
       "{'generated_text': 'assistant\\n\\nตามประมวลกฎหมายแพ่งและพาณิชย์ มาตรา 876 ผู้เอาประกันภัยสามารถบอกเลิกสัญญาประกันภัยได้หากผู้รับประกันภัยถูกตัดสินให้เป็นคนล้มละลาย แต่หากเบี้ยประกันภัยได้ส่งแล้วเต็มจำนวนเพื่ออายุประกันภัยเป็นระยะเวลามากน้อยเท่าใด ผู้รับประกันภัยจะห้ามบอกเลิกสัญญาก่อนระยะเวลานั้นสุดลง'}"
      ]
     },
     "execution_count": 23,
     "metadata": {},
     "output_type": "execute_result"
    }
   ],
   "source": [
    "pred_list[2]"
   ]
  },
  {
   "cell_type": "code",
   "execution_count": 24,
   "id": "43392b2f-7cea-4a24-9c6e-20d3a4c8415c",
   "metadata": {},
   "outputs": [
    {
     "data": {
      "text/plain": [
       "{'generated_text': 'assistant\\n\\nตามประมวลกฎหมายแพ่งและพาณิชย์ มาตรา 1030 ถ้าผู้เป็นหุ้นส่วนให้กรรมสิทธิ์ในทรัพย์สินอันใดอันหนึ่งเป็นการลงหุ้น ความเกี่ยวพันระหว่างผู้เป็นหุ้นส่วนคนนั้นกับห้างหุ้นส่วนในเรื่องส่งมอบและซ่อมแซมก็ดี ความรับผิดเพื่อชำรุดบกพร่องก็ดี ความรับผิดเพื่อการรอนสิทธิก็ดี ข้อยกเว้นความรับผิดก็ดี ท่านให้บังคับตามบทบัญญัติแห่งประมวลกฎหมายนี้ ว่าด้วยซื้อขาย'}"
      ]
     },
     "execution_count": 24,
     "metadata": {},
     "output_type": "execute_result"
    }
   ],
   "source": [
    "pred_list[3]"
   ]
  },
  {
   "cell_type": "code",
   "execution_count": 25,
   "id": "3fd8ccfd-477a-4d01-9d1f-7a935722f264",
   "metadata": {},
   "outputs": [
    {
     "data": {
      "text/plain": [
       "{'generated_text': 'assistant\\n\\nตามประมวลกฎหมายแพ่งและพาณิชย์ มาตรา 849 การรับเงินหรือรับชำระหนี้อันจะพึงชำระตามสัญญานั้น ท่านให้สันนิษฐานไว้ก่อนว่านายหน้าย่อมไม่มีอำนาจที่จะรับแทนผู้เป็นคู่สัญญา'}"
      ]
     },
     "execution_count": 25,
     "metadata": {},
     "output_type": "execute_result"
    }
   ],
   "source": [
    "pred_list[4]"
   ]
  },
  {
   "cell_type": "code",
   "execution_count": 26,
   "id": "c43ad136-477a-4060-8b3c-7622f1997996",
   "metadata": {},
   "outputs": [
    {
     "data": {
      "text/plain": [
       "{'generated_text': 'assistant\\n\\nตามประมวลกฎหมายแพ่งและพาณิชย์ มาตรา 1424 ผู้ทรงสิทธิเก็บกินมีหน้าที่บำรุงรักษาปกติและซ่อมแซมเล็กน้อยด้วย และหากจำเป็นต้องซ่อมแซมใหญ่หรือมีการสำคัญอันต้องทำเพื่อรักษาทรัพย์สิน ผู้ทรงสิทธิเก็บกินจะต้องแจ้งให้เจ้าของทรัพย์สินทราบโดยพลัน และยอมให้จัดทำการนั้น ๆ ไป หากเจ้าของทรัพย์สินละเลยเสีย ผู้ทรงสิทธิเก็บกินสามารถจัดทำการนั้นไปโดยให้เจ้าของทรัพย์สินออกค่าใช้จ่ายได้\\n\\nดังนั้น ในกรณีที่โรงงานมีรอยรั่วขนาดใหญ่ ผู้ทรงสิทธิเก็บกินจะต้องแจ้งให้เจ้าของโรงงานทราบโดยพลัน และยอมให้จัดทำการซ่อมแซมทันที หากเจ้าของโรงงานละเลยเสีย ผู้ทรงสิทธิเก็บกินสามารถจัดทำการซ่อมแซมโดยให้เจ้าของโรงงานออกค่าใช้จ่ายได้'}"
      ]
     },
     "execution_count": 26,
     "metadata": {},
     "output_type": "execute_result"
    }
   ],
   "source": [
    "pred_list[40]"
   ]
  },
  {
   "cell_type": "code",
   "execution_count": 27,
   "id": "6f0be5f5-14c8-46d6-9ef2-367f1298941b",
   "metadata": {},
   "outputs": [
    {
     "data": {
      "text/plain": [
       "'ตามประมวลกฎหมายแพ่งและพาณิชย์ มาตรา 1424 ผู้ทรงสิทธิเก็บกินมีหน้าที่บำรุงรักษาปกติและซ่อมแซมเล็กน้อยด้วย และหากจำเป็นต้องซ่อมแซมใหญ่หรือมีการสำคัญอันต้องทำเพื่อรักษาทรัพย์สิน ผู้ทรงสิทธิเก็บกินจะต้องแจ้งให้เจ้าของทรัพย์สินทราบโดยพลัน และยอมให้จัดทำการนั้น ๆ ไป หากเจ้าของทรัพย์สินละเลยเสีย ผู้ทรงสิทธิเก็บกินสามารถจัดทำการนั้นไปโดยให้เจ้าของทรัพย์สินออกค่าใช้จ่ายได้\\n\\nดังนั้น ในกรณีที่โรงงานมีรอยรั่วขนาดใหญ่ ผู้ทรงสิทธิเก็บกินจะต้องแจ้งให้เจ้าของโรงงานทราบโดยพลัน และยอมให้จัดทำการซ่อมแซมทันที หากเจ้าของโรงงานละเลยเสีย ผู้ทรงสิทธิเก็บกินสามารถจัดทำการซ่อมแซมโดยให้เจ้าของโรงงานออกค่าใช้จ่ายได้'"
      ]
     },
     "execution_count": 27,
     "metadata": {},
     "output_type": "execute_result"
    }
   ],
   "source": [
    "pred_list[40][\"generated_text\"].strip(\"assistant\\n\\n\")"
   ]
  },
  {
   "cell_type": "code",
   "execution_count": 28,
   "id": "2bbef87d-83be-4adb-8517-b5e91b987f82",
   "metadata": {},
   "outputs": [],
   "source": [
    "from pythainlp.tokenize import word_tokenize\n",
    "\n",
    "def wordcut(sent):\n",
    "    return word_tokenize(sent,keep_whitespace=False)"
   ]
  },
  {
   "cell_type": "code",
   "execution_count": 29,
   "id": "7e1b7b32-d934-4f3c-ac98-e9a81d80a225",
   "metadata": {},
   "outputs": [],
   "source": [
    "def wordcut2(sent):\n",
    "    return ' '.join(word_tokenize(sent,keep_whitespace=False))"
   ]
  },
  {
   "cell_type": "code",
   "execution_count": 30,
   "id": "46889ff5-10a8-4485-bbf2-ff4d01f8bf95",
   "metadata": {},
   "outputs": [],
   "source": [
    "list_pred_all=[wordcut(i[\"generated_text\"].strip(\"assistant\\n\\n\")) for i in pred_list]"
   ]
  },
  {
   "cell_type": "code",
   "execution_count": 31,
   "id": "c1b76b8c-655f-4be0-a6f5-c4e31e457b6a",
   "metadata": {},
   "outputs": [
    {
     "data": {
      "text/plain": [
       "[['ตาม',\n",
       "  'พระราชบัญญัติ',\n",
       "  'สัญญาซื้อขาย',\n",
       "  'ล่วงหน้า',\n",
       "  'พ.ศ.',\n",
       "  '2546',\n",
       "  'มาตรา',\n",
       "  '132',\n",
       "  'ผู้',\n",
       "  'ประกอบ',\n",
       "  'กิจการ',\n",
       "  'ใน',\n",
       "  'ลักษณะ',\n",
       "  'เป็น',\n",
       "  'ศูนย์',\n",
       "  'ซื้อขาย',\n",
       "  'สัญญาซื้อขาย',\n",
       "  'ล่วงหน้า',\n",
       "  'โดย',\n",
       "  'ไม่',\n",
       "  'ได้รับ',\n",
       "  'ใบอนุญาต',\n",
       "  'หรือไม่',\n",
       "  'ได้',\n",
       "  'จดทะเบียน',\n",
       "  'ตาม',\n",
       "  'มาตรา',\n",
       "  '54',\n",
       "  'จะ',\n",
       "  'ต้อง',\n",
       "  'ระวางโทษ',\n",
       "  'จำคุก',\n",
       "  'ไม่',\n",
       "  'เกิน',\n",
       "  '3',\n",
       "  'ปี',\n",
       "  'หรือ',\n",
       "  'ปรับ',\n",
       "  'ไม่',\n",
       "  'เกิน',\n",
       "  '300,000',\n",
       "  'บาท',\n",
       "  'หรือ',\n",
       "  'ทั้ง',\n",
       "  'จำ',\n",
       "  'ทั้ง',\n",
       "  'ปรับ',\n",
       "  'และ',\n",
       "  'ปรับ',\n",
       "  'อีก',\n",
       "  'ไม่',\n",
       "  'เกิน',\n",
       "  '1,000',\n",
       "  'บาท',\n",
       "  'ต่อ',\n",
       "  'วัน',\n",
       "  'ตลอดเวลา',\n",
       "  'ที่',\n",
       "  'ยัง',\n",
       "  'ฝ่าฝืน'],\n",
       " ['ไม่'],\n",
       " ['ตาม',\n",
       "  'ประมวลกฎหมายแพ่งและพาณิชย์',\n",
       "  'มาตรา',\n",
       "  '876',\n",
       "  'ผู้เอาประกันภัย',\n",
       "  'สามารถ',\n",
       "  'บอกเลิก',\n",
       "  'สัญญา',\n",
       "  'ประกันภัย',\n",
       "  'ได้',\n",
       "  'หาก',\n",
       "  'ผู้รับประกันภัย',\n",
       "  'ถูก',\n",
       "  'ตัดสิน',\n",
       "  'ให้',\n",
       "  'เป็น',\n",
       "  'คน',\n",
       "  'ล้มละลาย',\n",
       "  'แต่',\n",
       "  'หาก',\n",
       "  'เบี้ยประกันภัย',\n",
       "  'ได้',\n",
       "  'ส่ง',\n",
       "  'แล้ว',\n",
       "  'เต็ม',\n",
       "  'จำนวน',\n",
       "  'เพื่อ',\n",
       "  'อายุ',\n",
       "  'ประกันภัย',\n",
       "  'เป็น',\n",
       "  'ระยะเวลา',\n",
       "  'มาก',\n",
       "  'น้อย',\n",
       "  'เท่าใด',\n",
       "  'ผู้รับประกันภัย',\n",
       "  'จะ',\n",
       "  'ห้าม',\n",
       "  'บอกเลิก',\n",
       "  'สัญญา',\n",
       "  'ก่อน',\n",
       "  'ระยะเวลา',\n",
       "  'นั้น',\n",
       "  'สุด',\n",
       "  'ลง'],\n",
       " ['ตาม',\n",
       "  'ประมวลกฎหมายแพ่งและพาณิชย์',\n",
       "  'มาตรา',\n",
       "  '1030',\n",
       "  'ถ้า',\n",
       "  'ผู้',\n",
       "  'เป็น',\n",
       "  'หุ้นส่วน',\n",
       "  'ให้',\n",
       "  'กรรมสิทธิ์',\n",
       "  'ใน',\n",
       "  'ทรัพย์สิน',\n",
       "  'อัน',\n",
       "  'ใด',\n",
       "  'อัน',\n",
       "  'หนึ่ง',\n",
       "  'เป็นการ',\n",
       "  'ลงหุ้น',\n",
       "  'ความเกี่ยวพัน',\n",
       "  'ระหว่าง',\n",
       "  'ผู้',\n",
       "  'เป็น',\n",
       "  'หุ้นส่วน',\n",
       "  'คน',\n",
       "  'นั้น',\n",
       "  'กับ',\n",
       "  'ห้างหุ้นส่วน',\n",
       "  'ใน',\n",
       "  'เรื่อง',\n",
       "  'ส่งมอบ',\n",
       "  'และ',\n",
       "  'ซ่อมแซม',\n",
       "  'ก็ดี',\n",
       "  'ความ',\n",
       "  'รับผิด',\n",
       "  'เพื่อ',\n",
       "  'ชำรุด',\n",
       "  'บกพร่อง',\n",
       "  'ก็ดี',\n",
       "  'ความ',\n",
       "  'รับผิด',\n",
       "  'เพื่อ',\n",
       "  'การ',\n",
       "  'รอนสิทธิ',\n",
       "  'ก็ดี',\n",
       "  'ข้อยกเว้น',\n",
       "  'ความ',\n",
       "  'รับผิด',\n",
       "  'ก็ดี',\n",
       "  'ท่าน',\n",
       "  'ให้',\n",
       "  'บังคับ',\n",
       "  'ตาม',\n",
       "  'บทบัญญัติ',\n",
       "  'แห่ง',\n",
       "  'ประมวลกฎหมาย',\n",
       "  'นี้',\n",
       "  'ว่าด้วย',\n",
       "  'ซื้อขาย'],\n",
       " ['ตาม',\n",
       "  'ประมวลกฎหมายแพ่งและพาณิชย์',\n",
       "  'มาตรา',\n",
       "  '849',\n",
       "  'การ',\n",
       "  'รับเงิน',\n",
       "  'หรือ',\n",
       "  'รับ',\n",
       "  'ชำระหนี้',\n",
       "  'อัน',\n",
       "  'จะ',\n",
       "  'พึง',\n",
       "  'ชำระ',\n",
       "  'ตาม',\n",
       "  'สัญญา',\n",
       "  'นั้น',\n",
       "  'ท่าน',\n",
       "  'ให้',\n",
       "  'สันนิษฐาน',\n",
       "  'ไว้',\n",
       "  'ก่อน',\n",
       "  'ว่า',\n",
       "  'นายหน้า',\n",
       "  'ย่อม',\n",
       "  'ไม่',\n",
       "  'มีอำนาจ',\n",
       "  'ที่จะ',\n",
       "  'รับ',\n",
       "  'แทน',\n",
       "  'ผู้',\n",
       "  'เป็น',\n",
       "  'คู่สัญญา'],\n",
       " ['ตาม',\n",
       "  'พระราชบัญญัติ',\n",
       "  'หลักประกัน',\n",
       "  'ทาง',\n",
       "  'ธุรกิจ',\n",
       "  'พ.ศ.',\n",
       "  '2558',\n",
       "  'มาตรา',\n",
       "  '9',\n",
       "  'ผู้ให้',\n",
       "  'หลักประกัน',\n",
       "  'สามารถ',\n",
       "  'นำ',\n",
       "  'ทรัพย์สิน',\n",
       "  'ที่',\n",
       "  'ตน',\n",
       "  'มี',\n",
       "  'สิทธิ',\n",
       "  'อยู่',\n",
       "  'ใน',\n",
       "  'ปัจจุบัน',\n",
       "  'หรือ',\n",
       "  'ที่จะ',\n",
       "  'ได้มา',\n",
       "  'ในอนาคต',\n",
       "  'ตาม',\n",
       "  'สัญญา',\n",
       "  'หรือ',\n",
       "  'นิติสัมพันธ์',\n",
       "  'ใด',\n",
       "  'ๆ',\n",
       "  'มา',\n",
       "  'ใช้',\n",
       "  'เป็นหลักประกัน',\n",
       "  'ได้',\n",
       "  'แต่',\n",
       "  'สิทธิ',\n",
       "  'เหนือ',\n",
       "  'ทรัพย์สิน',\n",
       "  'อันเป็น',\n",
       "  'วัตถุ',\n",
       "  'แห่ง',\n",
       "  'สิทธิ',\n",
       "  'ที่',\n",
       "  'เป็นหลักประกัน',\n",
       "  'ตาม',\n",
       "  'สัญญา',\n",
       "  'จะ',\n",
       "  'มี',\n",
       "  'ขึ้น',\n",
       "  'เมื่อ',\n",
       "  'ผู้ให้',\n",
       "  'หลักประกัน',\n",
       "  'ได้มา',\n",
       "  'ซึ่ง',\n",
       "  'ทรัพย์สิน',\n",
       "  'นั้น'],\n",
       " ['ตาม',\n",
       "  'ประมวลกฎหมายแพ่งและพาณิชย์',\n",
       "  'มาตรา',\n",
       "  '565',\n",
       "  'การเช่า',\n",
       "  'ถือ',\n",
       "  'สวน',\n",
       "  'ให้',\n",
       "  'สันนิษฐาน',\n",
       "  'ไว้',\n",
       "  'ก่อน',\n",
       "  'ว่า',\n",
       "  'เช่า',\n",
       "  'กัน',\n",
       "  'ปี',\n",
       "  'หนึ่ง',\n",
       "  'และ',\n",
       "  'การเช่า',\n",
       "  'นา',\n",
       "  'ให้',\n",
       "  'สันนิษฐาน',\n",
       "  'ไว้',\n",
       "  'ก่อน',\n",
       "  'ว่า',\n",
       "  'เช่า',\n",
       "  'กัน',\n",
       "  'ตลอด',\n",
       "  'ฤดู',\n",
       "  'ทำนา',\n",
       "  'หนึ่ง'],\n",
       " ['ไม่',\n",
       "  'สามารถ',\n",
       "  'เป็น',\n",
       "  'บุตรบุญธรรม',\n",
       "  'ของ',\n",
       "  'คน',\n",
       "  'หลาย',\n",
       "  'คน',\n",
       "  'ในเวลาเดียวกัน',\n",
       "  'ได้'],\n",
       " ['(3)',\n",
       "  'ลงรายการ',\n",
       "  'ให้',\n",
       "  'ถูกต้อง',\n",
       "  'และ',\n",
       "  'ชัดเจน',\n",
       "  '\\n',\n",
       "  '(4)',\n",
       "  'ลงรายการ',\n",
       "  'ให้',\n",
       "  'ถูกต้อง',\n",
       "  'ตามหลักการ',\n",
       "  'บัญชี',\n",
       "  'ที่',\n",
       "  'กำหนด',\n",
       "  'ไว้',\n",
       "  'ใน',\n",
       "  'มาตรา',\n",
       "  '20',\n",
       "  '\\n',\n",
       "  '(5)',\n",
       "  'ลงรายการ',\n",
       "  'ให้',\n",
       "  'ถูกต้อง',\n",
       "  'ตามหลักการ',\n",
       "  'บัญชี',\n",
       "  'ที่',\n",
       "  'กำหนด',\n",
       "  'ไว้',\n",
       "  'ใน',\n",
       "  'มาตรา',\n",
       "  '20',\n",
       "  '\\n',\n",
       "  '(6)',\n",
       "  'ลงรายการ',\n",
       "  'ให้',\n",
       "  'ถูกต้อง',\n",
       "  'ตามหลักการ',\n",
       "  'บัญชี',\n",
       "  'ที่',\n",
       "  'กำหนด',\n",
       "  'ไว้',\n",
       "  'ใน',\n",
       "  'มาตรา',\n",
       "  '20',\n",
       "  '\\n',\n",
       "  '(7)',\n",
       "  'ลงรายการ',\n",
       "  'ให้',\n",
       "  'ถูกต้อง',\n",
       "  'ตามหลักการ',\n",
       "  'บัญชี',\n",
       "  'ที่',\n",
       "  'กำหนด',\n",
       "  'ไว้',\n",
       "  'ใน',\n",
       "  'มาตรา',\n",
       "  '20',\n",
       "  '\\n',\n",
       "  '(8)',\n",
       "  'ลงรายการ',\n",
       "  'ให้',\n",
       "  'ถูกต้อง',\n",
       "  'ตามหลักการ',\n",
       "  'บัญชี',\n",
       "  'ที่',\n",
       "  'กำหนด',\n",
       "  'ไว้',\n",
       "  'ใน',\n",
       "  'มาตรา',\n",
       "  '20',\n",
       "  '\\n',\n",
       "  '(9)',\n",
       "  'ลงรายการ',\n",
       "  'ให้',\n",
       "  'ถูกต้อง',\n",
       "  'ตามหลักการ',\n",
       "  'บัญชี',\n",
       "  'ที่',\n",
       "  'กำหนด',\n",
       "  'ไว้',\n",
       "  'ใน',\n",
       "  'มาตรา',\n",
       "  '20',\n",
       "  '\\n',\n",
       "  '(10)',\n",
       "  'ลงรายการ',\n",
       "  'ให้',\n",
       "  'ถูกต้อง',\n",
       "  'ตามหลักการ',\n",
       "  'บัญชี',\n",
       "  'ที่',\n",
       "  'กำหนด',\n",
       "  'ไว้',\n",
       "  'ใน',\n",
       "  'มาตรา',\n",
       "  '20']]"
      ]
     },
     "execution_count": 31,
     "metadata": {},
     "output_type": "execute_result"
    }
   ],
   "source": [
    "list_pred_all[0:9]"
   ]
  },
  {
   "cell_type": "code",
   "execution_count": 32,
   "id": "7d3e10b4-4587-474a-8762-0dbc891e1159",
   "metadata": {},
   "outputs": [],
   "source": [
    "list_ans_all=[wordcut(i) for i in list(dataset[\"answer\"])]"
   ]
  },
  {
   "cell_type": "code",
   "execution_count": 33,
   "id": "7c9f653e-db30-4dec-abc1-0ac653654343",
   "metadata": {
    "scrolled": true
   },
   "outputs": [
    {
     "data": {
      "text/plain": [
       "[['ต้อง',\n",
       "  'ระวางโทษ',\n",
       "  'จำคุก',\n",
       "  'ไม่',\n",
       "  'เกิน',\n",
       "  'สาม',\n",
       "  'ปี',\n",
       "  'หรือ',\n",
       "  'ปรับ',\n",
       "  'ไม่',\n",
       "  'เกิน',\n",
       "  'สาม',\n",
       "  'แสน',\n",
       "  'บาท',\n",
       "  'หรือ',\n",
       "  'ทั้ง',\n",
       "  'จำ',\n",
       "  'ทั้ง',\n",
       "  'ปรับ',\n",
       "  'และ',\n",
       "  'ปรับ',\n",
       "  'อีก',\n",
       "  'ไม่',\n",
       "  'เกิน',\n",
       "  'วัน',\n",
       "  'ละ',\n",
       "  'หนึ่ง',\n",
       "  'หมื่น',\n",
       "  'บาท',\n",
       "  'ตลอดเวลา',\n",
       "  'ที่',\n",
       "  'ยัง',\n",
       "  'ฝ่าฝืน'],\n",
       " ['การ',\n",
       "  'ที่',\n",
       "  'ผู้',\n",
       "  'อยู่',\n",
       "  'ใน',\n",
       "  'ปกครอง',\n",
       "  'ได้',\n",
       "  'ยินยอม',\n",
       "  'ด้วย',\n",
       "  'นั้น',\n",
       "  'ไม่',\n",
       "  'ได้',\n",
       "  'คุ้มครอง',\n",
       "  'ผู้ปกครอง',\n",
       "  'ให้',\n",
       "  'พ้น',\n",
       "  'จาก',\n",
       "  'ความ',\n",
       "  'รับผิด'],\n",
       " ['ผู้เอาประกันภัย',\n",
       "  'จะ',\n",
       "  'เรียก',\n",
       "  'ให้หา',\n",
       "  'ประกัน',\n",
       "  'อัน',\n",
       "  'สมควร',\n",
       "  'ให้',\n",
       "  'แก่',\n",
       "  'ตน',\n",
       "  'ก็ได้',\n",
       "  'หรือ',\n",
       "  'จะ',\n",
       "  'บอกเลิก',\n",
       "  'สัญญา',\n",
       "  'ก็ได้'],\n",
       " ['ให้',\n",
       "  'บังคับ',\n",
       "  'ตาม',\n",
       "  'บทบัญญัติ',\n",
       "  'แห่ง',\n",
       "  'ประมวลกฎหมายแพ่งและพาณิชย์',\n",
       "  'ว่าด้วย',\n",
       "  'ซื้อขาย'],\n",
       " ['รับ',\n",
       "  'ชำระหนี้',\n",
       "  'อัน',\n",
       "  'จะ',\n",
       "  'ต้อง',\n",
       "  'ชำระ',\n",
       "  'ตาม',\n",
       "  'สัญญา',\n",
       "  'นั้น',\n",
       "  'ให้',\n",
       "  'สันนิษฐาน',\n",
       "  'ไว้',\n",
       "  'ก่อน',\n",
       "  'ว่า',\n",
       "  'นายหน้า',\n",
       "  'ย่อม',\n",
       "  'ไม่',\n",
       "  'มีอำนาจ',\n",
       "  'ที่จะ',\n",
       "  'รับ',\n",
       "  'แทน',\n",
       "  'ผู้',\n",
       "  'เป็น',\n",
       "  'คู่สัญญา'],\n",
       " ['ผู้ให้',\n",
       "  'หลักประกัน',\n",
       "  'จะ',\n",
       "  'นำ',\n",
       "  'ทรัพย์สิน',\n",
       "  'ที่',\n",
       "  'ตน',\n",
       "  'มี',\n",
       "  'สิทธิ',\n",
       "  'อยู่',\n",
       "  'ที่จะ',\n",
       "  'ได้มา',\n",
       "  'ในอนาคต',\n",
       "  'ตาม',\n",
       "  'สัญญา',\n",
       "  'มา',\n",
       "  'ใช้',\n",
       "  'เป็นหลักประกัน',\n",
       "  'ก็ได้'],\n",
       " ['การเช่า', 'ถือ', 'สวน', 'มี', 'ระยะเวลา', 'หนึ่ง', 'ปี'],\n",
       " ['สามารถ',\n",
       "  'เป็น',\n",
       "  'บุตรบุญธรรม',\n",
       "  'บุคคล',\n",
       "  'อื่น',\n",
       "  'ได้',\n",
       "  'มากกว่า',\n",
       "  'หนึ่ง',\n",
       "  'คน',\n",
       "  'แต่',\n",
       "  'ต้อง',\n",
       "  'เป็น',\n",
       "  'บุตรบุญธรรม',\n",
       "  'ของ',\n",
       "  'คู่สมรส',\n",
       "  'ของ',\n",
       "  'ผู้รับบุตรบุญธรรม',\n",
       "  'ถ้า',\n",
       "  'ไม่',\n",
       "  'เข้า',\n",
       "  'เงื่อนไข',\n",
       "  'ทั้งหมด',\n",
       "  'นี้',\n",
       "  'เป็น',\n",
       "  'ไม่',\n",
       "  'ได้',\n",
       "  'คำอธิบาย',\n",
       "  'ขยายความ',\n",
       "  'เพิ่มเติม',\n",
       "  'ตาม',\n",
       "  'ประมวลกฎหมายแพ่งและพาณิชย์',\n",
       "  'มาตรา',\n",
       "  '1598',\n",
       "  '/26',\n",
       "  'ผู้เยาว์',\n",
       "  'ที่',\n",
       "  'เป็น',\n",
       "  'บุตรบุญธรรม',\n",
       "  'ของ',\n",
       "  'บุคคล',\n",
       "  'ใด',\n",
       "  'อยู่',\n",
       "  'จะ',\n",
       "  'เป็น',\n",
       "  'บุตรบุญธรรม',\n",
       "  'ของ',\n",
       "  'บุคคล',\n",
       "  'อื่น',\n",
       "  'อีก',\n",
       "  'ในขณะเดียวกัน',\n",
       "  'ไม่',\n",
       "  'ได้',\n",
       "  'เว้นแต่',\n",
       "  'เป็น',\n",
       "  'บุตรบุญธรรม',\n",
       "  'ของ',\n",
       "  'คู่สมรส',\n",
       "  'ของ',\n",
       "  'ผู้รับบุตรบุญธรรม'],\n",
       " ['(1)',\n",
       "  'ลงรายการ',\n",
       "  'เป็น',\n",
       "  'ภาษาไทย',\n",
       "  'หาก',\n",
       "  'ลงรายการ',\n",
       "  'เป็น',\n",
       "  'ภาษาต่างประเทศ',\n",
       "  'ให้',\n",
       "  'มี',\n",
       "  'ภาษาไทย',\n",
       "  'กำกับ',\n",
       "  'หรือ',\n",
       "  'ลงรายการ',\n",
       "  'เป็น',\n",
       "  'รหัส',\n",
       "  'บัญชี',\n",
       "  'ให้',\n",
       "  'มี',\n",
       "  'คู่มือ',\n",
       "  'แปลรหัส',\n",
       "  'ที่',\n",
       "  'เป็น',\n",
       "  'ภาษาไทย',\n",
       "  'ไว้',\n",
       "  '(2)',\n",
       "  'เขียน',\n",
       "  'ด้วย',\n",
       "  'หมึก',\n",
       "  'ดีดพิมพ์',\n",
       "  'ตีพิมพ์',\n",
       "  'หรือ',\n",
       "  'ทำ',\n",
       "  'ด้วย',\n",
       "  'วิธี',\n",
       "  'อื่น',\n",
       "  'ใด',\n",
       "  'ที่',\n",
       "  'ได้ผล',\n",
       "  'ในทำนองเดียวกัน']]"
      ]
     },
     "execution_count": 33,
     "metadata": {},
     "output_type": "execute_result"
    }
   ],
   "source": [
    "list_ans_all[0:9]"
   ]
  },
  {
   "cell_type": "code",
   "execution_count": 34,
   "id": "7de0b06d-47ec-451b-bb84-5d45c5684d30",
   "metadata": {},
   "outputs": [],
   "source": [
    "list_pred_all_wer=[wordcut2(i[\"generated_text\"].strip(\"assistant\\n\\n\")) for i in pred_list]\n",
    "list_ans_all_wer=[wordcut2(i) for i in list(dataset[\"answer\"])]"
   ]
  },
  {
   "cell_type": "code",
   "execution_count": 35,
   "id": "f981ce99-1d2e-43f0-a1b0-d5f533e40bc4",
   "metadata": {},
   "outputs": [
    {
     "name": "stdout",
     "output_type": "stream",
     "text": [
      "wer: 0.7916802326843351\n",
      "cer: 0.7322104862833891\n"
     ]
    }
   ],
   "source": [
    "from jiwer import wer,cer # 100%\n",
    "print(\"wer: \"+str(wer(list_ans_all_wer, list_pred_all_wer)))\n",
    "print(\"cer: \"+str(cer(list_ans_all_wer, list_pred_all_wer)))"
   ]
  },
  {
   "cell_type": "code",
   "execution_count": 36,
   "id": "6abe63fb-94e0-4ea7-9710-64f6f607594b",
   "metadata": {},
   "outputs": [],
   "source": [
    "from evaluate import load\n",
    "# Load the ROUGE metric\n",
    "import evaluate\n",
    "rouge = evaluate.load('rouge')"
   ]
  },
  {
   "cell_type": "code",
   "execution_count": 37,
   "id": "90802a3e-4ccd-4263-a5e4-9f5c5d49d186",
   "metadata": {},
   "outputs": [
    {
     "name": "stdout",
     "output_type": "stream",
     "text": [
      "{'rouge1': 0.5046606645592704, 'rouge2': 0.15032700543425676, 'rougeL': 0.4816149213748217, 'rougeLsum': 0.4846524000828039}\n"
     ]
    }
   ],
   "source": [
    "results = rouge.compute(predictions=list_pred_all_wer, references=list_ans_all_wer)\n",
    "print(results)"
   ]
  },
  {
   "cell_type": "code",
   "execution_count": 38,
   "id": "589e30c9-8da8-4bfe-aa0c-28ec4d60e075",
   "metadata": {},
   "outputs": [],
   "source": [
    "import json"
   ]
  },
  {
   "cell_type": "code",
   "execution_count": 39,
   "id": "db533ce5-6b94-45b8-9079-503799997d81",
   "metadata": {},
   "outputs": [],
   "source": [
    "with open(\"pred-mark4.json\",\"w\") as f:\n",
    "    f.write(json.dumps(pred_list,ensure_ascii=False))"
   ]
  },
  {
   "cell_type": "code",
   "execution_count": null,
   "id": "29e841a2-238c-4e95-8c1f-d37784251021",
   "metadata": {},
   "outputs": [],
   "source": []
  }
 ],
 "metadata": {
  "kernelspec": {
   "display_name": "Python 3 (ipykernel)",
   "language": "python",
   "name": "python3"
  },
  "language_info": {
   "codemirror_mode": {
    "name": "ipython",
    "version": 3
   },
   "file_extension": ".py",
   "mimetype": "text/x-python",
   "name": "python",
   "nbconvert_exporter": "python",
   "pygments_lexer": "ipython3",
   "version": "3.10.12"
  }
 },
 "nbformat": 4,
 "nbformat_minor": 5
}
