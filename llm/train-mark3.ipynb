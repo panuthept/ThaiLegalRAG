{
 "cells": [
  {
   "cell_type": "code",
   "execution_count": 1,
   "id": "4bcd6257-31c4-4d9f-884c-8b763add350f",
   "metadata": {},
   "outputs": [],
   "source": [
    "import os\n",
    "os.environ[\"CUDA_VISIBLE_DEVICES\"]=\"1\""
   ]
  },
  {
   "cell_type": "code",
   "execution_count": 2,
   "id": "e61218eb-b9de-478b-89f4-83e7f46af22b",
   "metadata": {},
   "outputs": [],
   "source": [
    "from transformers import AutoModelForCausalLM, AutoTokenizer, BitsAndBytesConfig, HfArgumentParser, TrainingArguments, pipeline, logging, TextStreamer\n",
    "from peft import LoraConfig, PeftModel, prepare_model_for_kbit_training, get_peft_model\n",
    "import os,torch, platform, warnings\n",
    "from datasets import load_dataset\n",
    "from trl import SFTTrainer"
   ]
  },
  {
   "cell_type": "code",
   "execution_count": 3,
   "id": "3b386b92-ad99-4347-920f-95b606dfe4b4",
   "metadata": {},
   "outputs": [],
   "source": [
    "import glob\n",
    "root_dataset=os.path.join(\"..\")\n",
    "dataset_dir=os.path.join(root_dataset,\"dataset\")\n",
    "dataset_train_path=glob.glob(os.path.join(dataset_dir,\"train\",\"*.csv\"))"
   ]
  },
  {
   "cell_type": "code",
   "execution_count": 4,
   "id": "4a8cf45c-b16a-41ee-9784-11f2d4dd2384",
   "metadata": {},
   "outputs": [
    {
     "name": "stderr",
     "output_type": "stream",
     "text": [
      "/tmp/ipykernel_10769/2338294619.py:1: UserWarning: torch.range is deprecated and will be removed in a future release because its behavior is inconsistent with Python's range builtin. Instead, use torch.arange, which produces values in [start, end).\n",
      "  torch.range(4,4).to(\"cuda\")\n"
     ]
    },
    {
     "data": {
      "text/plain": [
       "tensor([4.], device='cuda:0')"
      ]
     },
     "execution_count": 4,
     "metadata": {},
     "output_type": "execute_result"
    }
   ],
   "source": [
    "torch.range(4,4).to(\"cuda\")"
   ]
  },
  {
   "cell_type": "code",
   "execution_count": 5,
   "id": "7a09a9e6-5a63-469d-87a9-c9ffb0fbc99a",
   "metadata": {},
   "outputs": [
    {
     "name": "stdout",
     "output_type": "stream",
     "text": [
      "CUDA Available: True\n",
      "Number of CUDA devices: 1\n",
      "--- CUDA Device 0 ---\n",
      "Name: A100-SXM-80GB\n",
      "Compute Capability: (8, 0)\n",
      "Total Memory: 85199093760 bytes\n",
      "--- CPU Information ---\n",
      "Processor: x86_64\n",
      "System: Linux 3.10.0-1160.el7.x86_64\n",
      "Python Version: 3.10.12\n"
     ]
    }
   ],
   "source": [
    "def print_system_specs():\n",
    "    # Check if CUDA is available\n",
    "    is_cuda_available = torch.cuda.is_available()\n",
    "    print(\"CUDA Available:\", is_cuda_available)\n",
    "# Get the number of available CUDA devices\n",
    "    num_cuda_devices = torch.cuda.device_count()\n",
    "    print(\"Number of CUDA devices:\", num_cuda_devices)\n",
    "    if is_cuda_available:\n",
    "        for i in range(num_cuda_devices):\n",
    "            # Get CUDA device properties\n",
    "            device = torch.device('cuda', i)\n",
    "            print(f\"--- CUDA Device {i} ---\")\n",
    "            print(\"Name:\", torch.cuda.get_device_name(i))\n",
    "            print(\"Compute Capability:\", torch.cuda.get_device_capability(i))\n",
    "            print(\"Total Memory:\", torch.cuda.get_device_properties(i).total_memory, \"bytes\")\n",
    "    # Get CPU information\n",
    "    print(\"--- CPU Information ---\")\n",
    "    print(\"Processor:\", platform.processor())\n",
    "    print(\"System:\", platform.system(), platform.release())\n",
    "    print(\"Python Version:\", platform.python_version())\n",
    "print_system_specs()"
   ]
  },
  {
   "cell_type": "code",
   "execution_count": 6,
   "id": "6b5fbf75-c02e-420b-b37f-e847ef1f8327",
   "metadata": {},
   "outputs": [],
   "source": [
    "# Pre trained model\n",
    "model_name = \"unsloth/Meta-Llama-3.1-8B-Instruct\" \n",
    "\n",
    "# # Dataset name\n",
    "# dataset_name = \"vicgalle/alpaca-gpt4\"\n",
    "\n",
    "# Hugging face repository link to save fine-tuned model(Create new repository in huggingface,copy and paste here)\n",
    "new_model = \"t1\""
   ]
  },
  {
   "cell_type": "code",
   "execution_count": 7,
   "id": "4bdf020f-431a-4b26-98e6-fafc6ebe7f93",
   "metadata": {},
   "outputs": [],
   "source": [
    "import json\n",
    "import os\n",
    "from pathlib import Path\n",
    "law_dir=os.path.join(root_dataset,\"wcx_ptt_export_280524\")\n",
    "law_list=glob.glob(os.path.join(law_dir,\"*.json\"))\n",
    "law_data = {}\n",
    "for i in law_list:\n",
    "    key=Path(i).stem\n",
    "    law_data[key]={}\n",
    "    with open(i) as json_file:\n",
    "        json_data = json.load(json_file)\n",
    "    for j in json_data:\n",
    "        law_data[key][j['section_num']]=j['section_content']"
   ]
  },
  {
   "cell_type": "code",
   "execution_count": 8,
   "id": "ceb77d98-7ddb-404c-816c-aab53bb9476b",
   "metadata": {},
   "outputs": [],
   "source": [
    "from datasets import Dataset,DatasetDict\n",
    "import pandas as pd\n",
    "df = pd.concat([pd.read_csv(i) for i in dataset_train_path])\n",
    "ds = Dataset.from_pandas(df)\n",
    "dataset=ds"
   ]
  },
  {
   "cell_type": "code",
   "execution_count": 9,
   "id": "87035607-905c-4e5f-9e08-f2b640022ca4",
   "metadata": {},
   "outputs": [
    {
     "data": {
      "text/html": [
       "<div>\n",
       "<style scoped>\n",
       "    .dataframe tbody tr th:only-of-type {\n",
       "        vertical-align: middle;\n",
       "    }\n",
       "\n",
       "    .dataframe tbody tr th {\n",
       "        vertical-align: top;\n",
       "    }\n",
       "\n",
       "    .dataframe thead th {\n",
       "        text-align: right;\n",
       "    }\n",
       "</style>\n",
       "<table border=\"1\" class=\"dataframe\">\n",
       "  <thead>\n",
       "    <tr style=\"text-align: right;\">\n",
       "      <th></th>\n",
       "      <th>Unnamed: 0</th>\n",
       "      <th>idx</th>\n",
       "      <th>question</th>\n",
       "      <th>question_ori</th>\n",
       "      <th>answer</th>\n",
       "      <th>answer_ori</th>\n",
       "      <th>relevant_laws</th>\n",
       "      <th>irrelevant_laws</th>\n",
       "      <th>comment_1_1</th>\n",
       "      <th>comment_1_2</th>\n",
       "    </tr>\n",
       "  </thead>\n",
       "  <tbody>\n",
       "    <tr>\n",
       "      <th>0</th>\n",
       "      <td>0</td>\n",
       "      <td>ห0015-1B-0002_2225</td>\n",
       "      <td>อะไรคือสิ่งที่ไม่ควรปิดบังเจ้าหน้าที่หรือสำนัก...</td>\n",
       "      <td>อะไรคือสิ่งที่ไม่ควรปิดบังเจ้าหน้าที่หรือสำนัก...</td>\n",
       "      <td>คำตอบ: สิ่งที่คนทั่วไปไม่ควรปิดบังคือข้อความจร...</td>\n",
       "      <td>คำตอบ: สิ่งที่คนทั่วไปไม่ควรปิดบังคือข้อความจร...</td>\n",
       "      <td>[{'law_code': 'ห0015-1B-0002', 'sections': ['3...</td>\n",
       "      <td>[{'law_code': 'ส0065-1B-0001', 'sections': ['9...</td>\n",
       "      <td>NaN</td>\n",
       "      <td>NaN</td>\n",
       "    </tr>\n",
       "    <tr>\n",
       "      <th>1</th>\n",
       "      <td>1</td>\n",
       "      <td>ห0015-1B-0002_2235</td>\n",
       "      <td>การกระทำใดถือเป็นการแสดงข้อมูลที่ก่อให้เกิดควา...</td>\n",
       "      <td>การกระทำใดถือเป็นการแสดงข้อมูลที่ก่อให้เกิดควา...</td>\n",
       "      <td>คำตอบ: การนำส่งสำเนาหรือแสดงสมุดบัญชี เอกสาร ห...</td>\n",
       "      <td>คำตอบ: การนำส่งสำเนาหรือแสดงสมุดบัญชี เอกสาร ห...</td>\n",
       "      <td>[{'law_code': 'ห0015-1B-0002', 'sections': ['3...</td>\n",
       "      <td>[{'law_code': 'ห0015-1B-0002', 'sections': ['8...</td>\n",
       "      <td>NaN</td>\n",
       "      <td>NaN</td>\n",
       "    </tr>\n",
       "    <tr>\n",
       "      <th>2</th>\n",
       "      <td>2</td>\n",
       "      <td>ห0015-1B-0002_2240</td>\n",
       "      <td>หากบริษัทหลักทรัพย์หลอกลวงประชาชนโดยการแสดงข้อ...</td>\n",
       "      <td>หากบริษัทหลักทรัพย์หลอกลวงประชาชนโดยการแสดงข้อ...</td>\n",
       "      <td>คำตอบ: หากบริษัทหลักทรัพย์หลอกลวงประชาชนโดยการ...</td>\n",
       "      <td>คำตอบ: หากบริษัทหลักทรัพย์หลอกลวงประชาชนโดยการ...</td>\n",
       "      <td>[{'law_code': 'ห0015-1B-0002', 'sections': ['2...</td>\n",
       "      <td>[{'law_code': 'ก0173-1C-0001', 'sections': ['8...</td>\n",
       "      <td>NaN</td>\n",
       "      <td>NaN</td>\n",
       "    </tr>\n",
       "    <tr>\n",
       "      <th>3</th>\n",
       "      <td>3</td>\n",
       "      <td>ห0015-1B-0002_2247</td>\n",
       "      <td>ผู้ที่ได้รับมอบหมายให้จัดการทรัพย์สินของนิติบุ...</td>\n",
       "      <td>ผู้ที่ได้รับมอบหมายให้จัดการทรัพย์สินของนิติบุ...</td>\n",
       "      <td>คำตอบ: ผู้ที่ได้รับมอบหมายให้จัดการทรัพย์สินขอ...</td>\n",
       "      <td>คำตอบ: ผู้ที่ได้รับมอบหมายให้จัดการทรัพย์สินขอ...</td>\n",
       "      <td>[{'law_code': 'ห0015-1B-0002', 'sections': ['3...</td>\n",
       "      <td>[{'law_code': 'ห0015-1B-0002', 'sections': ['3...</td>\n",
       "      <td>NaN</td>\n",
       "      <td>NaN</td>\n",
       "    </tr>\n",
       "    <tr>\n",
       "      <th>4</th>\n",
       "      <td>4</td>\n",
       "      <td>ห0015-1B-0002_2251</td>\n",
       "      <td>การครอบครองทรัพย์ของนิติบุคคลโดยบุคคลที่รับผิด...</td>\n",
       "      <td>การครอบครองทรัพย์ของนิติบุคคลโดยบุคคลที่รับผิด...</td>\n",
       "      <td>คำตอบ: การครอบครองทรัพย์ของนิติบุคคลโดยบุคคลที...</td>\n",
       "      <td>คำตอบ: การครอบครองทรัพย์ของนิติบุคคลโดยบุคคลที...</td>\n",
       "      <td>[{'law_code': 'ห0015-1B-0002', 'sections': ['3...</td>\n",
       "      <td>[{'law_code': 'ห0015-1B-0002', 'sections': ['3...</td>\n",
       "      <td>NaN</td>\n",
       "      <td>NaN</td>\n",
       "    </tr>\n",
       "    <tr>\n",
       "      <th>...</th>\n",
       "      <td>...</td>\n",
       "      <td>...</td>\n",
       "      <td>...</td>\n",
       "      <td>...</td>\n",
       "      <td>...</td>\n",
       "      <td>...</td>\n",
       "      <td>...</td>\n",
       "      <td>...</td>\n",
       "      <td>...</td>\n",
       "      <td>...</td>\n",
       "    </tr>\n",
       "    <tr>\n",
       "      <th>3375</th>\n",
       "      <td>3375</td>\n",
       "      <td>ป0003-1D-0002_1043</td>\n",
       "      <td>การกระทำที่ไม่ผิดกฎหมาย แต่ขัดต่อศีลธรรมอันดีน...</td>\n",
       "      <td>การกระทำที่ไม่ผิดกฎหมาย แต่ขัดต่อศีลธรรมอันดีน...</td>\n",
       "      <td>คำตอบ:\\n\\nตามประมวลกฎหมายแพ่งและพาณิชย์ มาตรา ...</td>\n",
       "      <td>คำตอบ:\\n\\nตามประมวลกฎหมายแพ่งและพาณิชย์ มาตรา ...</td>\n",
       "      <td>[{'law_code': 'ป0003-1D-0002', 'sections': ['1...</td>\n",
       "      <td>[{'law_code': 'ป0003-1D-0002', 'sections': ['1...</td>\n",
       "      <td>กฎหมายเก่าแล้ว ปัจจุบันคือมาตรา 150</td>\n",
       "      <td>NaN</td>\n",
       "    </tr>\n",
       "    <tr>\n",
       "      <th>3376</th>\n",
       "      <td>3376</td>\n",
       "      <td>ป0003-1D-0002_1022</td>\n",
       "      <td>การกระทำที่ไม่ชอบด้วยกฎหมาย หรือก่อขึ้นโดยไม่ส...</td>\n",
       "      <td>การกระทำที่ไม่ชอบด้วยกฎหมาย หรือก่อขึ้นโดยไม่ส...</td>\n",
       "      <td>คำตอบ:\\n\\nการกระทำที่ไม่ชอบด้วยกฎหมาย หรือเกิด...</td>\n",
       "      <td>คำตอบ:\\n\\nการกระทำที่ไม่ชอบด้วยกฎหมาย หรือเกิด...</td>\n",
       "      <td>[{'law_code': 'ป0003-1D-0002', 'sections': ['1...</td>\n",
       "      <td>[{'law_code': 'ป0003-1D-0002', 'sections': ['1...</td>\n",
       "      <td>กฎหมายเก่าแล้วปัจจุบันคือมาตรา 149</td>\n",
       "      <td>NaN</td>\n",
       "    </tr>\n",
       "    <tr>\n",
       "      <th>3377</th>\n",
       "      <td>3377</td>\n",
       "      <td>ป0003-1D-0002_1399</td>\n",
       "      <td>ทำไมสัญญาที่มีเงื่อนไขขึ้นอยู่กับตัวผู้กู้ถึงถ...</td>\n",
       "      <td>ทำไมสัญญาที่มีเงื่อนไขขึ้นอยู่กับตัวผู้กู้ถึงถ...</td>\n",
       "      <td>คำตอบ:\\n\\nสัญญาที่มีเงื่อนไขขึ้นอยู่กับตัวผู้ก...</td>\n",
       "      <td>คำตอบ:\\n\\nสัญญาที่มีเงื่อนไขขึ้นอยู่กับตัวผู้ก...</td>\n",
       "      <td>[{'law_code': 'ป0003-1D-0002', 'sections': ['1...</td>\n",
       "      <td>[{'law_code': 'ป0003-1D-0002', 'sections': ['1...</td>\n",
       "      <td>NaN</td>\n",
       "      <td>NaN</td>\n",
       "    </tr>\n",
       "    <tr>\n",
       "      <th>3378</th>\n",
       "      <td>3378</td>\n",
       "      <td>ป0003-1D-0002_1419</td>\n",
       "      <td>ใครสามารถสละประโยชน์จากเงื่อนไขเวลาได้</td>\n",
       "      <td>ใครสามารถสละประโยชน์จากเงื่อนไขเวลาได้</td>\n",
       "      <td>คำตอบ:\\n\\nตามประมวลกฎหมายแพ่งและพาณิชย์ มาตรา ...</td>\n",
       "      <td>คำตอบ:\\n\\nตามประมวลกฎหมายแพ่งและพาณิชย์ มาตรา ...</td>\n",
       "      <td>[{'law_code': 'ป0003-1D-0002', 'sections': ['1...</td>\n",
       "      <td>[{'law_code': 'ป0003-1D-0002', 'sections': ['1...</td>\n",
       "      <td>NaN</td>\n",
       "      <td>NaN</td>\n",
       "    </tr>\n",
       "    <tr>\n",
       "      <th>3379</th>\n",
       "      <td>3379</td>\n",
       "      <td>ป0003-1D-0002_1447</td>\n",
       "      <td>กรณีใดบ้างที่ต้องคำนวณระยะเวลาเป็นชั่วโมง</td>\n",
       "      <td>กรณีใดบ้างที่ต้องคำนวณระยะเวลาเป็นชั่วโมง</td>\n",
       "      <td>คำตอบ:\\n\\nตามประมวลกฎหมายแพ่งและพาณิชย์ มาตรา ...</td>\n",
       "      <td>คำตอบ:\\n\\nตามประมวลกฎหมายแพ่งและพาณิชย์ มาตรา ...</td>\n",
       "      <td>[{'law_code': 'ป0003-1D-0002', 'sections': ['1...</td>\n",
       "      <td>[{'law_code': 'ป0003-1D-0002', 'sections': ['1...</td>\n",
       "      <td>NaN</td>\n",
       "      <td>NaN</td>\n",
       "    </tr>\n",
       "  </tbody>\n",
       "</table>\n",
       "<p>5772 rows × 10 columns</p>\n",
       "</div>"
      ],
      "text/plain": [
       "      Unnamed: 0                 idx  \\\n",
       "0              0  ห0015-1B-0002_2225   \n",
       "1              1  ห0015-1B-0002_2235   \n",
       "2              2  ห0015-1B-0002_2240   \n",
       "3              3  ห0015-1B-0002_2247   \n",
       "4              4  ห0015-1B-0002_2251   \n",
       "...          ...                 ...   \n",
       "3375        3375  ป0003-1D-0002_1043   \n",
       "3376        3376  ป0003-1D-0002_1022   \n",
       "3377        3377  ป0003-1D-0002_1399   \n",
       "3378        3378  ป0003-1D-0002_1419   \n",
       "3379        3379  ป0003-1D-0002_1447   \n",
       "\n",
       "                                               question  \\\n",
       "0     อะไรคือสิ่งที่ไม่ควรปิดบังเจ้าหน้าที่หรือสำนัก...   \n",
       "1     การกระทำใดถือเป็นการแสดงข้อมูลที่ก่อให้เกิดควา...   \n",
       "2     หากบริษัทหลักทรัพย์หลอกลวงประชาชนโดยการแสดงข้อ...   \n",
       "3     ผู้ที่ได้รับมอบหมายให้จัดการทรัพย์สินของนิติบุ...   \n",
       "4     การครอบครองทรัพย์ของนิติบุคคลโดยบุคคลที่รับผิด...   \n",
       "...                                                 ...   \n",
       "3375  การกระทำที่ไม่ผิดกฎหมาย แต่ขัดต่อศีลธรรมอันดีน...   \n",
       "3376  การกระทำที่ไม่ชอบด้วยกฎหมาย หรือก่อขึ้นโดยไม่ส...   \n",
       "3377  ทำไมสัญญาที่มีเงื่อนไขขึ้นอยู่กับตัวผู้กู้ถึงถ...   \n",
       "3378             ใครสามารถสละประโยชน์จากเงื่อนไขเวลาได้   \n",
       "3379          กรณีใดบ้างที่ต้องคำนวณระยะเวลาเป็นชั่วโมง   \n",
       "\n",
       "                                           question_ori  \\\n",
       "0     อะไรคือสิ่งที่ไม่ควรปิดบังเจ้าหน้าที่หรือสำนัก...   \n",
       "1     การกระทำใดถือเป็นการแสดงข้อมูลที่ก่อให้เกิดควา...   \n",
       "2     หากบริษัทหลักทรัพย์หลอกลวงประชาชนโดยการแสดงข้อ...   \n",
       "3     ผู้ที่ได้รับมอบหมายให้จัดการทรัพย์สินของนิติบุ...   \n",
       "4     การครอบครองทรัพย์ของนิติบุคคลโดยบุคคลที่รับผิด...   \n",
       "...                                                 ...   \n",
       "3375  การกระทำที่ไม่ผิดกฎหมาย แต่ขัดต่อศีลธรรมอันดีน...   \n",
       "3376  การกระทำที่ไม่ชอบด้วยกฎหมาย หรือก่อขึ้นโดยไม่ส...   \n",
       "3377  ทำไมสัญญาที่มีเงื่อนไขขึ้นอยู่กับตัวผู้กู้ถึงถ...   \n",
       "3378             ใครสามารถสละประโยชน์จากเงื่อนไขเวลาได้   \n",
       "3379          กรณีใดบ้างที่ต้องคำนวณระยะเวลาเป็นชั่วโมง   \n",
       "\n",
       "                                                 answer  \\\n",
       "0     คำตอบ: สิ่งที่คนทั่วไปไม่ควรปิดบังคือข้อความจร...   \n",
       "1     คำตอบ: การนำส่งสำเนาหรือแสดงสมุดบัญชี เอกสาร ห...   \n",
       "2     คำตอบ: หากบริษัทหลักทรัพย์หลอกลวงประชาชนโดยการ...   \n",
       "3     คำตอบ: ผู้ที่ได้รับมอบหมายให้จัดการทรัพย์สินขอ...   \n",
       "4     คำตอบ: การครอบครองทรัพย์ของนิติบุคคลโดยบุคคลที...   \n",
       "...                                                 ...   \n",
       "3375  คำตอบ:\\n\\nตามประมวลกฎหมายแพ่งและพาณิชย์ มาตรา ...   \n",
       "3376  คำตอบ:\\n\\nการกระทำที่ไม่ชอบด้วยกฎหมาย หรือเกิด...   \n",
       "3377  คำตอบ:\\n\\nสัญญาที่มีเงื่อนไขขึ้นอยู่กับตัวผู้ก...   \n",
       "3378  คำตอบ:\\n\\nตามประมวลกฎหมายแพ่งและพาณิชย์ มาตรา ...   \n",
       "3379  คำตอบ:\\n\\nตามประมวลกฎหมายแพ่งและพาณิชย์ มาตรา ...   \n",
       "\n",
       "                                             answer_ori  \\\n",
       "0     คำตอบ: สิ่งที่คนทั่วไปไม่ควรปิดบังคือข้อความจร...   \n",
       "1     คำตอบ: การนำส่งสำเนาหรือแสดงสมุดบัญชี เอกสาร ห...   \n",
       "2     คำตอบ: หากบริษัทหลักทรัพย์หลอกลวงประชาชนโดยการ...   \n",
       "3     คำตอบ: ผู้ที่ได้รับมอบหมายให้จัดการทรัพย์สินขอ...   \n",
       "4     คำตอบ: การครอบครองทรัพย์ของนิติบุคคลโดยบุคคลที...   \n",
       "...                                                 ...   \n",
       "3375  คำตอบ:\\n\\nตามประมวลกฎหมายแพ่งและพาณิชย์ มาตรา ...   \n",
       "3376  คำตอบ:\\n\\nการกระทำที่ไม่ชอบด้วยกฎหมาย หรือเกิด...   \n",
       "3377  คำตอบ:\\n\\nสัญญาที่มีเงื่อนไขขึ้นอยู่กับตัวผู้ก...   \n",
       "3378  คำตอบ:\\n\\nตามประมวลกฎหมายแพ่งและพาณิชย์ มาตรา ...   \n",
       "3379  คำตอบ:\\n\\nตามประมวลกฎหมายแพ่งและพาณิชย์ มาตรา ...   \n",
       "\n",
       "                                          relevant_laws  \\\n",
       "0     [{'law_code': 'ห0015-1B-0002', 'sections': ['3...   \n",
       "1     [{'law_code': 'ห0015-1B-0002', 'sections': ['3...   \n",
       "2     [{'law_code': 'ห0015-1B-0002', 'sections': ['2...   \n",
       "3     [{'law_code': 'ห0015-1B-0002', 'sections': ['3...   \n",
       "4     [{'law_code': 'ห0015-1B-0002', 'sections': ['3...   \n",
       "...                                                 ...   \n",
       "3375  [{'law_code': 'ป0003-1D-0002', 'sections': ['1...   \n",
       "3376  [{'law_code': 'ป0003-1D-0002', 'sections': ['1...   \n",
       "3377  [{'law_code': 'ป0003-1D-0002', 'sections': ['1...   \n",
       "3378  [{'law_code': 'ป0003-1D-0002', 'sections': ['1...   \n",
       "3379  [{'law_code': 'ป0003-1D-0002', 'sections': ['1...   \n",
       "\n",
       "                                        irrelevant_laws  \\\n",
       "0     [{'law_code': 'ส0065-1B-0001', 'sections': ['9...   \n",
       "1     [{'law_code': 'ห0015-1B-0002', 'sections': ['8...   \n",
       "2     [{'law_code': 'ก0173-1C-0001', 'sections': ['8...   \n",
       "3     [{'law_code': 'ห0015-1B-0002', 'sections': ['3...   \n",
       "4     [{'law_code': 'ห0015-1B-0002', 'sections': ['3...   \n",
       "...                                                 ...   \n",
       "3375  [{'law_code': 'ป0003-1D-0002', 'sections': ['1...   \n",
       "3376  [{'law_code': 'ป0003-1D-0002', 'sections': ['1...   \n",
       "3377  [{'law_code': 'ป0003-1D-0002', 'sections': ['1...   \n",
       "3378  [{'law_code': 'ป0003-1D-0002', 'sections': ['1...   \n",
       "3379  [{'law_code': 'ป0003-1D-0002', 'sections': ['1...   \n",
       "\n",
       "                              comment_1_1 comment_1_2  \n",
       "0                                     NaN         NaN  \n",
       "1                                     NaN         NaN  \n",
       "2                                     NaN         NaN  \n",
       "3                                     NaN         NaN  \n",
       "4                                     NaN         NaN  \n",
       "...                                   ...         ...  \n",
       "3375  กฎหมายเก่าแล้ว ปัจจุบันคือมาตรา 150         NaN  \n",
       "3376   กฎหมายเก่าแล้วปัจจุบันคือมาตรา 149         NaN  \n",
       "3377                                  NaN         NaN  \n",
       "3378                                  NaN         NaN  \n",
       "3379                                  NaN         NaN  \n",
       "\n",
       "[5772 rows x 10 columns]"
      ]
     },
     "execution_count": 9,
     "metadata": {},
     "output_type": "execute_result"
    }
   ],
   "source": [
    "df"
   ]
  },
  {
   "cell_type": "code",
   "execution_count": 10,
   "id": "8ed263dd-eb7e-49d3-9c52-8e8baa5febb2",
   "metadata": {},
   "outputs": [
    {
     "data": {
      "application/vnd.jupyter.widget-view+json": {
       "model_id": "9969fa47188c4ca8b2a827587d9260bf",
       "version_major": 2,
       "version_minor": 0
      },
      "text/plain": [
       "Loading checkpoint shards:   0%|          | 0/4 [00:00<?, ?it/s]"
      ]
     },
     "metadata": {},
     "output_type": "display_data"
    }
   ],
   "source": [
    "# Load base model(llama-2-7b-hf) and tokenizer\n",
    "bnb_config = BitsAndBytesConfig(\n",
    "    load_in_4bit= True,\n",
    "    bnb_4bit_quant_type= \"nf4\",\n",
    "    bnb_4bit_compute_dtype= torch.float16,\n",
    "    bnb_4bit_use_double_quant= False,\n",
    ")\n",
    "model = AutoModelForCausalLM.from_pretrained(\n",
    "    model_name,\n",
    "    quantization_config=bnb_config,\n",
    "    device_map={\"\": 0}\n",
    ")\n",
    "model = prepare_model_for_kbit_training(model)\n",
    "model.config.use_cache = False # silence the warnings. Please re-enable for inference!\n",
    "model.config.pretraining_tp = 1\n",
    "# Load LLaMA tokenizer\n",
    "tokenizer = AutoTokenizer.from_pretrained(model_name, trust_remote_code=True)\n",
    "tokenizer.pad_token = tokenizer.eos_token\n",
    "tokenizer.add_eos_token = True\n",
    "# tokenizer.add_bos_token, tokenizer.add_eos_token"
   ]
  },
  {
   "cell_type": "code",
   "execution_count": 11,
   "id": "85fa8e07-d475-4dab-9290-03a6afc61579",
   "metadata": {},
   "outputs": [
    {
     "data": {
      "text/plain": [
       "Dataset({\n",
       "    features: ['Unnamed: 0', 'idx', 'question', 'question_ori', 'answer', 'answer_ori', 'relevant_laws', 'irrelevant_laws', 'comment_1_1', 'comment_1_2', '__index_level_0__'],\n",
       "    num_rows: 5772\n",
       "})"
      ]
     },
     "execution_count": 11,
     "metadata": {},
     "output_type": "execute_result"
    }
   ],
   "source": [
    "dataset"
   ]
  },
  {
   "cell_type": "code",
   "execution_count": 12,
   "id": "580b2605-9f23-4769-854c-9f7c6f392419",
   "metadata": {},
   "outputs": [
    {
     "data": {
      "application/vnd.jupyter.widget-view+json": {
       "model_id": "6427c1d3824943c5936218a3e0e9ef3d",
       "version_major": 2,
       "version_minor": 0
      },
      "text/plain": [
       "Filter:   0%|          | 0/5772 [00:00<?, ? examples/s]"
      ]
     },
     "metadata": {},
     "output_type": "display_data"
    },
    {
     "data": {
      "text/plain": [
       "Dataset({\n",
       "    features: ['Unnamed: 0', 'idx', 'question', 'question_ori', 'answer', 'answer_ori', 'relevant_laws', 'irrelevant_laws', 'comment_1_1', 'comment_1_2', '__index_level_0__'],\n",
       "    num_rows: 5772\n",
       "})"
      ]
     },
     "execution_count": 12,
     "metadata": {},
     "output_type": "execute_result"
    }
   ],
   "source": [
    "import datetime\n",
    "dataset.filter(lambda example: isinstance(eval(example['relevant_laws']),list))"
   ]
  },
  {
   "cell_type": "code",
   "execution_count": 13,
   "id": "1742ba68-93ca-4d66-b172-40acdf425d07",
   "metadata": {},
   "outputs": [
    {
     "data": {
      "text/plain": [
       "{'Unnamed: 0': 1001,\n",
       " 'idx': 'ก0102-1B-0001_83',\n",
       " 'question': 'หากกิจการต้องการเลิกกิจการ ต้องดำเนินการภายในระยะเวลาเท่าใด',\n",
       " 'question_ori': 'หากกิจการต้องการเลิกกิจการ ต้องดำเนินการภายในระยะเวลาเท่าใด',\n",
       " 'answer': 'คำตอบ: ตามกฎหมายการประกอบธุรกิจของคนต่างด้าว กิจการต้องแจ้งการเลิกกิจการต่อนายทะเบียนภายใน 15 วันนับแต่วันเลิกกิจการ\\n\\nคำอธิบายขยายความ:\\nตามมาตรา 22 แห่งพระราชบัญญัติการประกอบธุรกิจของคนต่างด้าว พ.ศ. 2542 กำหนดให้ผู้รับใบอนุญาตหรือผู้รับหนังสือรับรองที่เลิกประกอบธุรกิจ ต้องแจ้งการเลิกกิจการต่อนายทะเบียนภายในระยะเวลา 15 วัน นับจากวันที่เลิกกิจการ โดยการแจ้งนั้นต้องเป็นไปตามแบบและวิธีการที่กำหนดในกฎกระทรวง ทั้งนี้ ข้อกำหนดนี้ใช้บังคับกับกรณีการย้ายสำนักงานหรือสถานที่ประกอบธุรกิจด้วยเช่นกัน',\n",
       " 'answer_ori': 'คำตอบ: ตามกฎหมายการประกอบธุรกิจของคนต่างด้าว กิจการต้องแจ้งการเลิกกิจการต่อนายทะเบียนภายใน 15 วันนับแต่วันเลิกกิจการ\\n\\nคำอธิบายขยายความ:\\nตามมาตรา 22 แห่งพระราชบัญญัติการประกอบธุรกิจของคนต่างด้าว พ.ศ. 2542 กำหนดให้ผู้รับใบอนุญาตหรือผู้รับหนังสือรับรองที่เลิกประกอบธุรกิจ ต้องแจ้งการเลิกกิจการต่อนายทะเบียนภายในระยะเวลา 15 วัน นับจากวันที่เลิกกิจการ โดยการแจ้งนั้นต้องเป็นไปตามแบบและวิธีการที่กำหนดในกฎกระทรวง ทั้งนี้ ข้อกำหนดนี้ใช้บังคับกับกรณีการย้ายสำนักงานหรือสถานที่ประกอบธุรกิจด้วยเช่นกัน',\n",
       " 'relevant_laws': \"[{'law_code': 'ก0102-1B-0001', 'sections': ['22']}]\",\n",
       " 'irrelevant_laws': \"[{'law_code': 'ป0008-1D-0001', 'sections': ['82 ทวิ']}, {'law_code': 'บ0011-1B-0001', 'sections': ['48']}, {'law_code': 'ย0022-1B-0001', 'sections': ['7']}, {'law_code': 'ก0070-1B-0003', 'sections': ['25']}]\",\n",
       " 'comment_1_1': None,\n",
       " 'comment_1_2': None,\n",
       " '__index_level_0__': 1001}"
      ]
     },
     "execution_count": 13,
     "metadata": {},
     "output_type": "execute_result"
    }
   ],
   "source": [
    "dataset[1000+1]"
   ]
  },
  {
   "cell_type": "code",
   "execution_count": 14,
   "id": "a468d8a4-b27e-4a1b-ab83-530251fa7d3e",
   "metadata": {},
   "outputs": [
    {
     "data": {
      "application/vnd.jupyter.widget-view+json": {
       "model_id": "70b6e0377bc747b7adb247a2ad6fe32b",
       "version_major": 2,
       "version_minor": 0
      },
      "text/plain": [
       "Map:   0%|          | 0/5772 [00:00<?, ? examples/s]"
      ]
     },
     "metadata": {},
     "output_type": "display_data"
    },
    {
     "data": {
      "application/vnd.jupyter.widget-view+json": {
       "model_id": "d8c0bb47f0e74ebe90c34872c4e91180",
       "version_major": 2,
       "version_minor": 0
      },
      "text/plain": [
       "Filter:   0%|          | 0/5772 [00:00<?, ? examples/s]"
      ]
     },
     "metadata": {},
     "output_type": "display_data"
    }
   ],
   "source": [
    "EOS_TOKEN = tokenizer.eos_token # Must add EOS_TOKEN\n",
    "def formatting_prompts_func(examples):\n",
    "    inputs       = examples[\"question\"]\n",
    "    outputs      = examples[\"answer\"]\n",
    "    list_law= [i for i in examples[\"relevant_laws\"]]\n",
    "    # list_txt_law=[]\n",
    "    # for i in list_law:\n",
    "    #     list_txt_law.append(law_data[i[\"law_code\"][str(i['sections'][0])]])\n",
    "    texts = []\n",
    "    for i, output,law in zip(inputs, outputs,list_law):\n",
    "        # Must add EOS_TOKEN, otherwise your generation will go on forever!\n",
    "        list_txt_law=[]\n",
    "        for k in eval(law):\n",
    "            if k[\"law_code\"] not in set(law_data.keys()):\n",
    "                pass\n",
    "            else:\n",
    "                if str(k['sections'][0]) not in set(law_data[k[\"law_code\"]].keys()):\n",
    "                    pass\n",
    "                else:\n",
    "                    for s in k['sections']:\n",
    "                        if str(s) in set(law_data[k[\"law_code\"]].keys()):\n",
    "                            list_txt_law.append(law_data[k[\"law_code\"]][str(s)].strip())\n",
    "        if list_txt_law!=[]:\n",
    "            source_information=\"- \"+\"\\n- \".join(list_txt_law)\n",
    "            source_information=source_information.strip()\n",
    "            i=i.strip()\n",
    "            content=f\"\"\"Query: {i}\\nContinue to answer the query by using the Search Results:\\n{source_information}\"\"\"\n",
    "            text = tokenizer.apply_chat_template([{\"role\":\"user\",\"content\":content},{\"role\":\"assistant\",\"content\":output.strip()}], tokenize=False) + EOS_TOKEN\n",
    "            texts.append(text)\n",
    "        else:\n",
    "            texts.append(None)\n",
    "    return { \"text\" : texts, }\n",
    "\n",
    "from datasets import load_dataset\n",
    "dataset = dataset.map(formatting_prompts_func, batched = True,).filter(lambda example: isinstance(example['text'],str))"
   ]
  },
  {
   "cell_type": "code",
   "execution_count": 15,
   "id": "4efd16be-cc49-47aa-85a3-d55fc2268ffb",
   "metadata": {},
   "outputs": [
    {
     "data": {
      "text/plain": [
       "Dataset({\n",
       "    features: ['Unnamed: 0', 'idx', 'question', 'question_ori', 'answer', 'answer_ori', 'relevant_laws', 'irrelevant_laws', 'comment_1_1', 'comment_1_2', '__index_level_0__', 'text'],\n",
       "    num_rows: 4794\n",
       "})"
      ]
     },
     "execution_count": 15,
     "metadata": {},
     "output_type": "execute_result"
    }
   ],
   "source": [
    "dataset"
   ]
  },
  {
   "cell_type": "code",
   "execution_count": 16,
   "id": "1eca1b5b-2730-4ef1-8d10-64901f4288aa",
   "metadata": {},
   "outputs": [
    {
     "name": "stdout",
     "output_type": "stream",
     "text": [
      "<|begin_of_text|><|start_header_id|>user<|end_header_id|>\n",
      "\n",
      "Query: ใครเป็นผู้มีอำนาจในการแก้ไขวิธีการจัดการกองทุนรวม\n",
      "Continue to answer the query by using the Search Results:\n",
      "- พระราชบัญญัติหลักทรัพย์และตลาดหลักทรัพย์ พ.ศ. 2535 มาตรา 129/1 การแก้ไขเพิ่มเติมโครงการจัดการกองทุนรวมหรือแก้ไขวิธีการจัดการในกรณีดังต่อไปนี้บริษัทหลักทรัพย์อาจขอให้สำนักงานให้ความเห็นชอบแทนการขอมติของผู้ถือหน่วยลงทุนตามมาตรา 129 วรรคสอง ก็ได้\n",
      "(1)การเปลี่ยนแปลงข้อกำหนดเกี่ยวกับการขายและการรับซื้อคืนหน่วยลงทุน\n",
      "(2)การเพิ่มชนิดหน่วยลงทุนที่ไม่ทำให้สิทธิที่ผู้ถือหน่วยลงทุนมีอยู่เดิมด้อยลง\n",
      "(3)การดำเนินการเพื่อให้สอดคล้องกับบทบัญญัติของพระราชบัญญัตินี้\n",
      "(4)การแก้ไขเพิ่มเติมโครงการจัดการกองทุนรวมหรือแก้ไขวิธีการจัดการในลักษณะที่สำนักงานประกาศกำหนด\n",
      "- พระราชบัญญัติหลักทรัพย์และตลาดหลักทรัพย์ พ.ศ. 2535 มาตรา 129 ในการจัดการกองทุนรวมบริษัทหลักทรัพย์ต้องดำเนินการตามโครงการจัดการกองทุนรวมที่ได้รับอนุมัติจากสำนักงาน\n",
      "การแก้ไขเพิ่มเติมโครงการจัดการกองทุนรวมหรือแก้ไขวิธีการจัดการให้กระทำโดยการขอมติของผู้ถือหน่วยลงทุนซึ่งจะดำเนินการโดยการจัดประชุมผู้ถือหน่วยลงทุนหรือการส่งหนังสือขอมติของผู้ถือหน่วยลงทุนก็ได้\n",
      "ให้บริษัทหลักทรัพย์แจ้งการแก้ไขเพิ่มเติมโครงการจัดการกองทุนรวมหรือวิธีการจัดการให้สำนักงานทราบรวมทั้งแจ้งไปยังผู้ถือหน่วยลงทุนทุกคนและเผยแพร่ในลักษณะที่ผู้ลงทุนทั่วไปสามารถเข้าตรวจดูได้ ทั้งนี้ภายในสิบห้าวันนับแต่วันที่มีมติให้แก้ไข<|eot_id|><|start_header_id|>assistant<|end_header_id|>\n",
      "\n",
      "คำตอบ:\n",
      "\n",
      "ตามพระราชบัญญัติหลักทรัพย์และตลาดหลักทรัพย์ พ.ศ. 2535 มาตรา 129 และมาตรา 129/1 ผู้มีอำนาจในการแก้ไขวิธีการจัดการกองทุนรวมคือ บริษัทหลักทรัพย์ที่ได้รับอนุญาตจากสำนักงาน และผู้ถือหน่วยลงทุน\n",
      "\n",
      "บริษัทหลักทรัพย์มีอำนาจในการดำเนินการตามโครงการการจัดการกองทุนรวมที่ได้รับอนุญาตจากสำนักงาน และสามารถแก้ไขเพิ่มเติมโครงการการจัดการกองทุนรวมหรือแก้ไขวิธีการจัดการได้โดยการขอมติของผู้ถือหน่วยลงทุน หรือโดยการขอให้สำนักงานให้ความเห็นชอบแทนการขอมติของผู้ถือหน่วยลงทุน ในกรณีที่กำหนดไว้ในมาตรา 129/1\n",
      "\n",
      "ในส่วนของผู้ถือหน่วยลงทุน จะมีอำนาจในการอนุมัติการแก้ไขเพิ่มเติมโครงการการจัดการกองทุนรวมหรือแก้ไขวิธีการจัดการ โดยการจัดประชุมผู้ถือหน่วยลงทุน หรือโดยการส่งหนังสือขอมติของผู้ถือหน่วยลงทุน\n",
      "\n",
      "ดังนั้น ผู้มีอำนาจในการแก้ไขวิธีการจัดการกองทุนรวมคือ บริษัทหลักทรัพย์และผู้ถือหน่วยลงทุน โดยบริษัทหลักทรัพย์ต้องดำเนินการตามโครงการการจัดการกองทุนรวมที่ได้รับอนุญาตจากสำนักงาน และต้องแจ้งการแก้ไขเพิ่มเติมโครงการการจัดการกองทุนรวมหรือวิธีการจัดการให้สำนักงานและผู้ถือหน่วยลงทุนทราบ<|eot_id|><|start_header_id|>assistant<|end_header_id|>\n",
      "\n",
      "<|eot_id|>\n"
     ]
    }
   ],
   "source": [
    "print(dataset[\"text\"][2111])"
   ]
  },
  {
   "cell_type": "code",
   "execution_count": 17,
   "id": "1d22618e-1c10-4246-9b32-dc226c5df740",
   "metadata": {},
   "outputs": [],
   "source": [
    "peft_config = LoraConfig(\n",
    "    lora_alpha= 8,\n",
    "    lora_dropout= 0.1,\n",
    "    r= 16,\n",
    "    bias=\"none\",\n",
    "    task_type=\"CAUSAL_LM\",\n",
    "    target_modules=[\"q_proj\", \"k_proj\", \"v_proj\", \"o_proj\",\"gate_proj\", \"up_proj\"]\n",
    ")"
   ]
  },
  {
   "cell_type": "code",
   "execution_count": 18,
   "id": "6d1c59f9-f82a-4bc1-a2f5-3434351755fc",
   "metadata": {},
   "outputs": [],
   "source": [
    "training_arguments = TrainingArguments(\n",
    "    output_dir= \"./results_mark3\",\n",
    "    num_train_epochs= 1,\n",
    "    per_device_train_batch_size= 32,\n",
    "    gradient_accumulation_steps= 2,\n",
    "    optim = \"paged_adamw_8bit\",\n",
    "    save_steps= 1000,\n",
    "    logging_steps= 10,\n",
    "    learning_rate= 2e-4,\n",
    "    weight_decay= 0.001,\n",
    "    fp16= False,\n",
    "    bf16= False,\n",
    "    max_grad_norm= 0.3,\n",
    "    max_steps= -1,\n",
    "    warmup_ratio= 0.3,\n",
    "    group_by_length= True,\n",
    "    lr_scheduler_type= \"linear\",\n",
    "    report_to=\"wandb\",\n",
    ")"
   ]
  },
  {
   "cell_type": "code",
   "execution_count": 19,
   "id": "90a81d9f-34e5-41ee-be77-584d76c0bc78",
   "metadata": {},
   "outputs": [
    {
     "name": "stderr",
     "output_type": "stream",
     "text": [
      "/usr/local/lib/python3.10/dist-packages/trl/trainer/sft_trainer.py:246: UserWarning: You didn't pass a `max_seq_length` argument to the SFTTrainer, this will default to 1024\n",
      "  warnings.warn(\n"
     ]
    },
    {
     "data": {
      "application/vnd.jupyter.widget-view+json": {
       "model_id": "457a4aa81cbd442b8ae1ac87ff8a593e",
       "version_major": 2,
       "version_minor": 0
      },
      "text/plain": [
       "Map:   0%|          | 0/4794 [00:00<?, ? examples/s]"
      ]
     },
     "metadata": {},
     "output_type": "display_data"
    },
    {
     "name": "stderr",
     "output_type": "stream",
     "text": [
      "/usr/local/lib/python3.10/dist-packages/trl/trainer/sft_trainer.py:318: UserWarning: You passed a tokenizer with `padding_side` not equal to `right` to the SFTTrainer. This might lead to some unexpected behaviour due to overflow issues when training a model in half-precision. You might consider adding `tokenizer.padding_side = 'right'` to your code.\n",
      "  warnings.warn(\n",
      "Detected kernel version 3.10.0, which is below the recommended minimum of 5.5.0; this can cause the process to hang. It is recommended to upgrade the kernel to the minimum version or higher.\n"
     ]
    }
   ],
   "source": [
    "# Setting sft parameters\n",
    "trainer = SFTTrainer(\n",
    "    model=model,\n",
    "    train_dataset=dataset,\n",
    "    peft_config=peft_config,\n",
    "    max_seq_length= None,\n",
    "    dataset_text_field=\"text\",\n",
    "    tokenizer=tokenizer,\n",
    "    args=training_arguments,\n",
    "    packing= False,\n",
    ") "
   ]
  },
  {
   "cell_type": "code",
   "execution_count": 20,
   "id": "59e21218-ac71-4be7-81f7-71481de0758f",
   "metadata": {},
   "outputs": [
    {
     "name": "stdout",
     "output_type": "stream",
     "text": [
      "[2024-07-30 09:49:50,157] [INFO] [real_accelerator.py:203:get_accelerator] Setting ds_accelerator to cuda (auto detect)\n",
      "\u001b[93m [WARNING] \u001b[0m Please specify the CUTLASS repo directory as environment variable $CUTLASS_PATH\n",
      "\u001b[93m [WARNING] \u001b[0m sparse_attn requires a torch version >= 1.5 and < 2.0 but detected 2.3\n",
      "\u001b[93m [WARNING] \u001b[0m using untested triton version (2.3.1), only 1.0.0 is known to be compatible\n"
     ]
    },
    {
     "name": "stderr",
     "output_type": "stream",
     "text": [
      "\u001b[34m\u001b[1mwandb\u001b[0m: \u001b[33mWARNING\u001b[0m The `run_name` is currently set to the same value as `TrainingArguments.output_dir`. If this was not intended, please specify a different run name by setting the `TrainingArguments.run_name` parameter.\n",
      "Failed to detect the name of this notebook, you can set it manually with the WANDB_NOTEBOOK_NAME environment variable to enable code saving.\n",
      "\u001b[34m\u001b[1mwandb\u001b[0m: Currently logged in as: \u001b[33mwannaphong\u001b[0m. Use \u001b[1m`wandb login --relogin`\u001b[0m to force relogin\n"
     ]
    },
    {
     "data": {
      "text/html": [
       "Tracking run with wandb version 0.17.5"
      ],
      "text/plain": [
       "<IPython.core.display.HTML object>"
      ]
     },
     "metadata": {},
     "output_type": "display_data"
    },
    {
     "data": {
      "text/html": [
       "Run data is saved locally in <code>/workspace/law/ThaiLegalRAG/llm/wandb/run-20240730_094952-2gm2sipf</code>"
      ],
      "text/plain": [
       "<IPython.core.display.HTML object>"
      ]
     },
     "metadata": {},
     "output_type": "display_data"
    },
    {
     "data": {
      "text/html": [
       "Syncing run <strong><a href='https://wandb.ai/wannaphong/huggingface/runs/2gm2sipf' target=\"_blank\">./results_mark3</a></strong> to <a href='https://wandb.ai/wannaphong/huggingface' target=\"_blank\">Weights & Biases</a> (<a href='https://wandb.me/run' target=\"_blank\">docs</a>)<br/>"
      ],
      "text/plain": [
       "<IPython.core.display.HTML object>"
      ]
     },
     "metadata": {},
     "output_type": "display_data"
    },
    {
     "data": {
      "text/html": [
       " View project at <a href='https://wandb.ai/wannaphong/huggingface' target=\"_blank\">https://wandb.ai/wannaphong/huggingface</a>"
      ],
      "text/plain": [
       "<IPython.core.display.HTML object>"
      ]
     },
     "metadata": {},
     "output_type": "display_data"
    },
    {
     "data": {
      "text/html": [
       " View run at <a href='https://wandb.ai/wannaphong/huggingface/runs/2gm2sipf' target=\"_blank\">https://wandb.ai/wannaphong/huggingface/runs/2gm2sipf</a>"
      ],
      "text/plain": [
       "<IPython.core.display.HTML object>"
      ]
     },
     "metadata": {},
     "output_type": "display_data"
    },
    {
     "name": "stderr",
     "output_type": "stream",
     "text": [
      "/usr/local/lib/python3.10/dist-packages/torch/utils/checkpoint.py:464: UserWarning: torch.utils.checkpoint: the use_reentrant parameter should be passed explicitly. In version 2.4 we will raise an exception if use_reentrant is not passed. use_reentrant=False is recommended, but if you need to preserve the current default behavior, you can pass use_reentrant=True. Refer to docs for more details on the differences between the two variants.\n",
      "  warnings.warn(\n"
     ]
    },
    {
     "data": {
      "text/html": [
       "\n",
       "    <div>\n",
       "      \n",
       "      <progress value='75' max='75' style='width:300px; height:20px; vertical-align: middle;'></progress>\n",
       "      [75/75 2:16:40, Epoch 1/1]\n",
       "    </div>\n",
       "    <table border=\"1\" class=\"dataframe\">\n",
       "  <thead>\n",
       " <tr style=\"text-align: left;\">\n",
       "      <th>Step</th>\n",
       "      <th>Training Loss</th>\n",
       "    </tr>\n",
       "  </thead>\n",
       "  <tbody>\n",
       "    <tr>\n",
       "      <td>10</td>\n",
       "      <td>1.133600</td>\n",
       "    </tr>\n",
       "    <tr>\n",
       "      <td>20</td>\n",
       "      <td>1.124500</td>\n",
       "    </tr>\n",
       "    <tr>\n",
       "      <td>30</td>\n",
       "      <td>0.845500</td>\n",
       "    </tr>\n",
       "    <tr>\n",
       "      <td>40</td>\n",
       "      <td>0.850500</td>\n",
       "    </tr>\n",
       "    <tr>\n",
       "      <td>50</td>\n",
       "      <td>0.755200</td>\n",
       "    </tr>\n",
       "    <tr>\n",
       "      <td>60</td>\n",
       "      <td>0.788600</td>\n",
       "    </tr>\n",
       "    <tr>\n",
       "      <td>70</td>\n",
       "      <td>0.720200</td>\n",
       "    </tr>\n",
       "  </tbody>\n",
       "</table><p>"
      ],
      "text/plain": [
       "<IPython.core.display.HTML object>"
      ]
     },
     "metadata": {},
     "output_type": "display_data"
    },
    {
     "data": {
      "text/plain": [
       "TrainOutput(global_step=75, training_loss=0.8797359275817871, metrics={'train_runtime': 8372.6992, 'train_samples_per_second': 0.573, 'train_steps_per_second': 0.009, 'total_flos': 1.456180926476452e+17, 'train_loss': 0.8797359275817871, 'epoch': 1.0})"
      ]
     },
     "execution_count": 20,
     "metadata": {},
     "output_type": "execute_result"
    }
   ],
   "source": [
    "# Train model\n",
    "trainer.train()"
   ]
  },
  {
   "cell_type": "code",
   "execution_count": null,
   "id": "9055e45f-f15e-4276-a03a-c0b07bbdb424",
   "metadata": {},
   "outputs": [],
   "source": []
  }
 ],
 "metadata": {
  "kernelspec": {
   "display_name": "Python 3 (ipykernel)",
   "language": "python",
   "name": "python3"
  },
  "language_info": {
   "codemirror_mode": {
    "name": "ipython",
    "version": 3
   },
   "file_extension": ".py",
   "mimetype": "text/x-python",
   "name": "python",
   "nbconvert_exporter": "python",
   "pygments_lexer": "ipython3",
   "version": "3.10.12"
  }
 },
 "nbformat": 4,
 "nbformat_minor": 5
}
